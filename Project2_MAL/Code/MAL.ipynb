{
 "cells": [
  {
   "cell_type": "code",
   "execution_count": 1,
   "metadata": {},
   "outputs": [
    {
     "name": "stdout",
     "output_type": "stream",
     "text": [
      "User-agent: *\n",
      "Disallow: /admin/\n",
      "Disallow: /log/\n",
      "Disallow: /includes/\n",
      "Disallow: /comtocom.php\n",
      "Disallow: /comments.php\n",
      "Disallow: /ad/\n",
      "Disallow: /about\n",
      "Disallow: /dbchanges.php\n",
      "Disallow: /clubs.php/*\n",
      "Disallow: /_Incapsula_Resource\n",
      "Disallow: /mymessages.php\n",
      "Disallow: /sns/*/*\n",
      "\n",
      "Sitemap: https://myanimelist.net/sitemap/index.xml\n",
      "\n"
     ]
    }
   ],
   "source": [
    "from bs4 import BeautifulSoup\n",
    "import requests\n",
    "\n",
    "url = 'https://myanimelist.net/robots.txt'\n",
    "response  = requests.get(url)\n",
    "print(response.text)"
   ]
  },
  {
   "cell_type": "markdown",
   "metadata": {},
   "source": [
    "### Details"
   ]
  },
  {
   "cell_type": "code",
   "execution_count": 15,
   "metadata": {},
   "outputs": [],
   "source": [
    "# url = 'https://myanimelist.net/anime/5114/Fullmetal_Alchemist__Brotherhood?q=full%20metal%20alch'\n",
    "# url = 'https://myanimelist.net/anime/32262/Renai_Boukun'\n",
    "url = 'https://myanimelist.net/anime/12729/High_School_DxD_OVA'\n",
    "response = requests.get(url)"
   ]
  },
  {
   "cell_type": "code",
   "execution_count": 16,
   "metadata": {},
   "outputs": [
    {
     "data": {
      "text/plain": [
       "200"
      ]
     },
     "execution_count": 16,
     "metadata": {},
     "output_type": "execute_result"
    }
   ],
   "source": [
    "response.status_code"
   ]
  },
  {
   "cell_type": "code",
   "execution_count": 17,
   "metadata": {},
   "outputs": [],
   "source": [
    "page = response.text"
   ]
  },
  {
   "cell_type": "code",
   "execution_count": 18,
   "metadata": {},
   "outputs": [],
   "source": [
    "soup = BeautifulSoup(page, \"lxml\")"
   ]
  },
  {
   "cell_type": "code",
   "execution_count": 19,
   "metadata": {},
   "outputs": [
    {
     "data": {
      "text/plain": [
       "'OVA'"
      ]
     },
     "execution_count": 19,
     "metadata": {},
     "output_type": "execute_result"
    }
   ],
   "source": [
    "ani_type = soup.find('span', string='Type:').findNext('a').contents[0]\n",
    "# type_text = ani_type.next_sibling\n",
    "ani_type"
   ]
  },
  {
   "cell_type": "code",
   "execution_count": 95,
   "metadata": {},
   "outputs": [
    {
     "data": {
      "text/plain": [
       "'Love Tyrant'"
      ]
     },
     "execution_count": 95,
     "metadata": {},
     "output_type": "execute_result"
    }
   ],
   "source": [
    "title = soup.find('span', string='English:')\n",
    "title_text = title.next_sibling\n",
    "title_text.strip()"
   ]
  },
  {
   "cell_type": "code",
   "execution_count": 124,
   "metadata": {},
   "outputs": [
    {
     "data": {
      "text/plain": [
       "'Renai Boukun: Love Tyrant'"
      ]
     },
     "execution_count": 124,
     "metadata": {},
     "output_type": "execute_result"
    }
   ],
   "source": [
    "import re\n",
    "\n",
    "n_title = soup.find('span', itemprop='name')\n",
    "regex = re.compile(r\"<br/?>\", re.IGNORECASE)\n",
    "newtext = re.sub(regex, ': ', str(n_title))\n",
    "newtext = BeautifulSoup(newtext, \"lxml\").text\n",
    "newtext"
   ]
  },
  {
   "cell_type": "code",
   "execution_count": 37,
   "metadata": {},
   "outputs": [
    {
     "data": {
      "text/plain": [
       "'Finished Airing'"
      ]
     },
     "execution_count": 37,
     "metadata": {},
     "output_type": "execute_result"
    }
   ],
   "source": [
    "status = soup.find('span', string='Status:')\n",
    "status_text = status.next_sibling\n",
    "status_text.strip()"
   ]
  },
  {
   "cell_type": "code",
   "execution_count": 38,
   "metadata": {},
   "outputs": [
    {
     "data": {
      "text/plain": [
       "'Bones'"
      ]
     },
     "execution_count": 38,
     "metadata": {},
     "output_type": "execute_result"
    }
   ],
   "source": [
    "studios = soup.find('span', string='Studios:').next_sibling\n",
    "studios.next_sibling.text"
   ]
  },
  {
   "cell_type": "code",
   "execution_count": 39,
   "metadata": {},
   "outputs": [
    {
     "data": {
      "text/plain": [
       "'Manga'"
      ]
     },
     "execution_count": 39,
     "metadata": {},
     "output_type": "execute_result"
    }
   ],
   "source": [
    "source = soup.find('span', string='Source:')\n",
    "source_text = source.next_sibling\n",
    "source_text.strip()"
   ]
  },
  {
   "cell_type": "code",
   "execution_count": 40,
   "metadata": {},
   "outputs": [
    {
     "name": "stdout",
     "output_type": "stream",
     "text": [
      "Action\n",
      "Military\n",
      "Adventure\n",
      "Comedy\n",
      "Drama\n",
      "Magic\n",
      "Fantasy\n",
      "Shounen\n"
     ]
    }
   ],
   "source": [
    "genres = soup.find_all('span', itemprop = 'genre')\n",
    "for genre in genres:\n",
    "    print(genre.text)"
   ]
  },
  {
   "cell_type": "code",
   "execution_count": 41,
   "metadata": {},
   "outputs": [
    {
     "data": {
      "text/plain": [
       "'R'"
      ]
     },
     "execution_count": 41,
     "metadata": {},
     "output_type": "execute_result"
    }
   ],
   "source": [
    "rating = soup.find('span', string='Rating:')\n",
    "rating_text = rating.next_sibling\n",
    "b = rating_text.strip().split()\n",
    "a = ''.join(b[0:1])\n",
    "a"
   ]
  },
  {
   "cell_type": "code",
   "execution_count": 42,
   "metadata": {},
   "outputs": [
    {
     "data": {
      "text/plain": [
       "9.23"
      ]
     },
     "execution_count": 42,
     "metadata": {},
     "output_type": "execute_result"
    }
   ],
   "source": [
    "score = soup.find('span', itemprop = 'ratingValue').text\n",
    "float(score)"
   ]
  },
  {
   "cell_type": "code",
   "execution_count": 43,
   "metadata": {},
   "outputs": [
    {
     "data": {
      "text/plain": [
       "1126315"
      ]
     },
     "execution_count": 43,
     "metadata": {},
     "output_type": "execute_result"
    }
   ],
   "source": [
    "score_count = soup.find('span', itemprop = 'ratingCount').text\n",
    "int(score_count)"
   ]
  },
  {
   "cell_type": "code",
   "execution_count": 44,
   "metadata": {},
   "outputs": [
    {
     "data": {
      "text/plain": [
       "157069"
      ]
     },
     "execution_count": 44,
     "metadata": {},
     "output_type": "execute_result"
    }
   ],
   "source": [
    "favorites = soup.find('span', string='Favorites:')\n",
    "favorites_text = favorites.next_sibling\n",
    "# favorites_text = favorites_text.strip()\n",
    "favorites_text = int(favorites_text.replace(',', ''))\n",
    "favorites_text"
   ]
  },
  {
   "cell_type": "code",
   "execution_count": 57,
   "metadata": {},
   "outputs": [
    {
     "data": {
      "text/plain": [
       "64"
      ]
     },
     "execution_count": 57,
     "metadata": {},
     "output_type": "execute_result"
    }
   ],
   "source": [
    "epi = soup.find('span', string='Episodes:')\n",
    "epi_text = epi.next_sibling\n",
    "c = epi_text.strip()\n",
    "c = int(c)\n",
    "c"
   ]
  },
  {
   "cell_type": "markdown",
   "metadata": {},
   "source": [
    "### Episodes"
   ]
  },
  {
   "cell_type": "code",
   "execution_count": 66,
   "metadata": {},
   "outputs": [],
   "source": [
    "# url = 'https://myanimelist.net/anime/5114/Fullmetal_Alchemist__Brotherhood/episode'\n",
    "url = 'https://myanimelist.net/anime/32281/Kimi_no_Na_wa/episode'\n",
    "response = requests.get(url)"
   ]
  },
  {
   "cell_type": "code",
   "execution_count": 67,
   "metadata": {},
   "outputs": [
    {
     "data": {
      "text/plain": [
       "404"
      ]
     },
     "execution_count": 67,
     "metadata": {},
     "output_type": "execute_result"
    }
   ],
   "source": [
    "response.status_code"
   ]
  },
  {
   "cell_type": "code",
   "execution_count": 68,
   "metadata": {},
   "outputs": [
    {
     "name": "stdout",
     "output_type": "stream",
     "text": [
      "1\n"
     ]
    }
   ],
   "source": [
    "if response.status_code == 200:\n",
    "    page = response.text\n",
    "    soup = BeautifulSoup(page, \"lxml\")\n",
    "\n",
    "    episodes = soup.find('span', class_ = 'di-ib pl4 fw-n fs10').text\n",
    "    total_episodes = episodes.split('/')[0].strip('()')\n",
    "    total_episodes = int(total_episodes)\n",
    "    print(total_episodes)\n",
    "else:\n",
    "    url = 'https://myanimelist.net/anime/32281/Kimi_no_Na_wa' \n",
    "    response = requests.get(url)\n",
    "    page = response.text\n",
    "    soup = BeautifulSoup(page, \"lxml\")\n",
    "    \n",
    "    epi = soup.find('span', string='Episodes:')\n",
    "    epi_text = epi.next_sibling\n",
    "    c = epi_text.strip()\n",
    "    c = int(c)\n",
    "    print(c)"
   ]
  },
  {
   "cell_type": "code",
   "execution_count": null,
   "metadata": {},
   "outputs": [],
   "source": [
    "# page = response.text"
   ]
  },
  {
   "cell_type": "code",
   "execution_count": 492,
   "metadata": {},
   "outputs": [],
   "source": [
    "# soup = BeautifulSoup(page, \"lxml\")"
   ]
  },
  {
   "cell_type": "code",
   "execution_count": 493,
   "metadata": {},
   "outputs": [
    {
     "data": {
      "text/plain": [
       "64"
      ]
     },
     "execution_count": 493,
     "metadata": {},
     "output_type": "execute_result"
    }
   ],
   "source": [
    "# episodes = soup.find('span', class_ = 'di-ib pl4 fw-n fs10').text\n",
    "# total_episodes = episodes.split('/')[0].strip('()')\n",
    "# total_episodes = int(total_episodes)\n",
    "# total_episodes"
   ]
  },
  {
   "cell_type": "markdown",
   "metadata": {},
   "source": [
    "### Characters"
   ]
  },
  {
   "cell_type": "code",
   "execution_count": 29,
   "metadata": {},
   "outputs": [],
   "source": [
    "url = 'https://myanimelist.net/anime/5114/Fullmetal_Alchemist__Brotherhood/characters' \n",
    "response = requests.get(url)"
   ]
  },
  {
   "cell_type": "code",
   "execution_count": 30,
   "metadata": {},
   "outputs": [
    {
     "data": {
      "text/plain": [
       "200"
      ]
     },
     "execution_count": 30,
     "metadata": {},
     "output_type": "execute_result"
    }
   ],
   "source": [
    "response.status_code"
   ]
  },
  {
   "cell_type": "code",
   "execution_count": 31,
   "metadata": {},
   "outputs": [],
   "source": [
    "page = response.text"
   ]
  },
  {
   "cell_type": "code",
   "execution_count": 32,
   "metadata": {},
   "outputs": [],
   "source": [
    "soup = BeautifulSoup(page, \"lxml\")"
   ]
  },
  {
   "cell_type": "code",
   "execution_count": 33,
   "metadata": {},
   "outputs": [],
   "source": [
    "# characters = soup.find_all('td', valign = 'top', class_ = 'borderClass bgColor2', align = False)\n",
    "# for i in range(len(characters)):\n",
    "#     print(characters[i].find('a').text)"
   ]
  },
  {
   "cell_type": "code",
   "execution_count": 36,
   "metadata": {},
   "outputs": [],
   "source": [
    "target = soup.find_all('h2')\n",
    "# new_target = target[3].find_next_siblings('table')\n",
    "\n",
    "# char = new_target[0].find('td', valign = 'top', class_ = ['borderClass bgColor1', 'borderClass bgColor2'], align = False)\n",
    "# print(char.find('a').text)"
   ]
  },
  {
   "cell_type": "code",
   "execution_count": 37,
   "metadata": {},
   "outputs": [],
   "source": [
    "char = []\n",
    "\n",
    "for tag in target[3].next_siblings:\n",
    "    a = tag.find('td', 'a', valign = 'top', class_ = ['borderClass bgColor1', 'borderClass bgColor2'], align = False)\n",
    "    if a:\n",
    "        char.append(a.find('a').text)\n",
    "    else:\n",
    "        pass\n",
    "    if tag.name == \"div\":\n",
    "        break"
   ]
  },
  {
   "cell_type": "code",
   "execution_count": 38,
   "metadata": {},
   "outputs": [
    {
     "data": {
      "text/plain": [
       "88"
      ]
     },
     "execution_count": 38,
     "metadata": {},
     "output_type": "execute_result"
    }
   ],
   "source": [
    "len(char)"
   ]
  },
  {
   "cell_type": "markdown",
   "metadata": {},
   "source": [
    "### Clubs"
   ]
  },
  {
   "cell_type": "code",
   "execution_count": 39,
   "metadata": {},
   "outputs": [],
   "source": [
    "url = 'https://myanimelist.net/anime/5114/Fullmetal_Alchemist__Brotherhood/clubs' \n",
    "response = requests.get(url)"
   ]
  },
  {
   "cell_type": "code",
   "execution_count": 40,
   "metadata": {},
   "outputs": [
    {
     "data": {
      "text/plain": [
       "200"
      ]
     },
     "execution_count": 40,
     "metadata": {},
     "output_type": "execute_result"
    }
   ],
   "source": [
    "response.status_code"
   ]
  },
  {
   "cell_type": "code",
   "execution_count": 41,
   "metadata": {},
   "outputs": [],
   "source": [
    "page = response.text"
   ]
  },
  {
   "cell_type": "code",
   "execution_count": 42,
   "metadata": {},
   "outputs": [],
   "source": [
    "soup = BeautifulSoup(page, \"lxml\")"
   ]
  },
  {
   "cell_type": "code",
   "execution_count": 43,
   "metadata": {},
   "outputs": [
    {
     "data": {
      "text/plain": [
       "['Recommendation Club',\n",
       " 'Anime Watching Challenges Club  [AWCc]',\n",
       " 'Anime Recommendation and Help Center',\n",
       " '20+',\n",
       " 'Random Cards Club (R.C.C)',\n",
       " 'English Dub Fanclub',\n",
       " '✨ [Closed] - Monthly Anime Club ✨',\n",
       " 'Fullmetal Alchemist Fanclub',\n",
       " 'Anime Experience',\n",
       " 'DARK AND BRUTAL ANIME CLUB',\n",
       " 'All Anime Fan Club [German]',\n",
       " 'Claim your Current Character Obsession [C.C.O.]',\n",
       " 'The Kugimiya Rie Club',\n",
       " 'Girls With Guns FC',\n",
       " 'We Luv Anime Guys',\n",
       " 'Fullmetal Alchemist Brotherhood',\n",
       " 'Ponytail/Pigtail Fan Club',\n",
       " '- ~ Miyano Mamoru Fanclub ~ - ',\n",
       " '♥Yuuichi Nakamura Fanclub♥',\n",
       " 'Anime & Manga Recommendation',\n",
       " 'Cogito Ergo Sum - Philosophy In Anime and Manga',\n",
       " 'Club Of Culture',\n",
       " '*Psychotic Maniac Killers*',\n",
       " \"Lilybeth's Card Workshop (LCWS)[Inactive]\",\n",
       " 'Anime Discussions',\n",
       " 'Fullmetal Alchemist Brotherhood FC',\n",
       " 'Mizuki Nana',\n",
       " 'Traditional Friends Card Club [TFCC] - HIATUS',\n",
       " 'Edward Elric Fanclub',\n",
       " 'Long Black/Dark Haired Guys',\n",
       " \"An Otaku's Paradise \",\n",
       " 'The Soundtrack Conservatory',\n",
       " 'Open Discussion Club',\n",
       " '~ONII-SAN... Big Brothers club~',\n",
       " 'The Waifu Brigade! ',\n",
       " 'Feminist Fangirls',\n",
       " 'Odd Eyes Club',\n",
       " 'Studio BONES Fan Club',\n",
       " 'J-WoW  (Just Wannabe Otakus Welcome!) & Cards ',\n",
       " 'Criminal Minds',\n",
       " 'Anime Card Obsession (A.C.O.)',\n",
       " 'Anime Land',\n",
       " 'Anime Boys Fan Club [A.B.F.C]',\n",
       " 'Anime America Club',\n",
       " 'LE Paradise ❤ { L.E.P.}',\n",
       " '[Possible Spoilers] Most Overrated/Underrated Club V. 0',\n",
       " '[[      Live Action Adaptations     ]]',\n",
       " 'Animanga Lovers',\n",
       " 'Coffee Shop ★ [Hiatus]',\n",
       " 'Arab Otaku',\n",
       " 'Intense Anime Characters Fanclub ',\n",
       " 'Sun Palace',\n",
       " 'Daisuke Namikawa Fan Club!',\n",
       " 'Polski FC Fullmetal Alchemist',\n",
       " 'Toonami Faithfuls',\n",
       " 'Watch Anime Together Club Headquarters',\n",
       " 'Fullmetal Alchemist Doggie Fanclub',\n",
       " 'Metacritic For Anime',\n",
       " 'Anime Discussion Brigade',\n",
       " 'World of Animes (W.O.A.)',\n",
       " '♥ Coffee Lovers Unite! ♥',\n",
       " 'Full Metal Alchemists',\n",
       " 'Otaku Fan Club',\n",
       " 'Be Adopted By An Anime Character',\n",
       " 'OST Connect',\n",
       " 'Closed Eyed Characters Fanclub ',\n",
       " 'Ro-Otaku',\n",
       " 'Murderous Anime FC',\n",
       " 'The Misc',\n",
       " '[adult swim] Message Boards Club',\n",
       " 'FUNimation fan Club',\n",
       " 'Tattoo Anime People',\n",
       " 'Anime Music Downloader',\n",
       " 'FIRE POWER',\n",
       " 'The Geek Show',\n",
       " 'Manga Anime League (MAL)',\n",
       " 'AnImE lOvErZ!!!',\n",
       " 'Maes Hughes Fanclub',\n",
       " 'AniKitty {Hiatus}',\n",
       " 'The Lan Fan Fanclub ♥',\n",
       " 'Character Manager',\n",
       " '✧Royal♔Medley✧ [Semi-Active]',\n",
       " 'Claim a character for a season! [& More] ~ Season Club',\n",
       " '~11 Keys - Ice Cream Kingdom~ x3',\n",
       " 'Balloon Parade ♠',\n",
       " \"The Homunculus' Club\",\n",
       " 'Edward Elric X Winry Rockbell',\n",
       " 'Shinichiro Miki Fanclub',\n",
       " 'Winry Rockbell Love',\n",
       " 'Fumiko Orikasa FC',\n",
       " 'MAL Chat Room',\n",
       " 'SCANDAL Fan Club',\n",
       " 'Full Metal Alchemist 2',\n",
       " 'Power House',\n",
       " 'Random Anime Claim Club',\n",
       " 'Critics and Connoisseurs',\n",
       " 'Ultimate Claim',\n",
       " 'Polski Anty FC Debilnych Bohaterek',\n",
       " 'YUI (ユイ) fan club! <3',\n",
       " 'Otakus de France 🌟',\n",
       " \"baby's castle\",\n",
       " 'Decadence',\n",
       " 'MAL Rewrite',\n",
       " 'Scandinavian Otakus',\n",
       " 'do you like envy from FMA ?',\n",
       " 'Fullmetal Alchemist Manga',\n",
       " 'Alphonse \"Al\" Elric Fanclub ',\n",
       " 'MAL Magic Society',\n",
       " '~A Musical Heart~ Club',\n",
       " 'Supernatural!',\n",
       " 'Shorties FC',\n",
       " 'Claim a Soundtrack Club!',\n",
       " 'Everything Anime (E.A)',\n",
       " 'Kemonomimi Ai (獣耳 愛)',\n",
       " '¨*~.._Welcome to Wonderland_..~*¨',\n",
       " \"Hime and Viper's Palace\",\n",
       " 'Emotionally Attached [Hiatus]',\n",
       " 'russian shounenfags!',\n",
       " 'Randomness club ',\n",
       " 'Olivier Mira Armstrong Fans',\n",
       " 'Fullmetal Alchemist Chibis~♥',\n",
       " 'Brotherhood of The Black Dagger',\n",
       " '100% Dubbed',\n",
       " 'BISDAK . org ( Club para sa mga Bisaya )',\n",
       " 'Paper Craft Makers',\n",
       " 'Chibinator  ♥',\n",
       " \"Polski FC Edward'a Elric'a\",\n",
       " 'Green Haired Anime Characters',\n",
       " 'Chō Heiwa Basutāzu',\n",
       " 'Tomodachi  no club',\n",
       " \"{*Yuruppy's SSS*}\",\n",
       " 'AnimeWorld',\n",
       " 'Supernatural Fan club ',\n",
       " 'Izumi Curtis FC',\n",
       " 'Federation of Anime',\n",
       " '~Best Music Idols~',\n",
       " 'Shin-Weeblitist',\n",
       " 'Alphonse Elric Fanclub',\n",
       " 'Limitless Recommendations',\n",
       " \"SkyBat82's Helping Hand (S.H.H)\",\n",
       " 'Hurt & Heal (H&H) — Hiatus',\n",
       " 'Anime Scientists!',\n",
       " 'The Random Fandom',\n",
       " 'Anime/Manga Mix',\n",
       " 'Crazy Cards Club',\n",
       " 'The Fellowship for Comprehensive Appreciation of Anime',\n",
       " 'Pokemon Showdown Anime and Manga',\n",
       " 'Claim a Good & Evil Character',\n",
       " 'SID FanClub',\n",
       " 'Ani-Manga',\n",
       " 'Group of Anime Addicts (GAA)',\n",
       " 'ARAB Otaku ST2',\n",
       " \"Claim a Character's Ambition/Dream\",\n",
       " 'Refrain',\n",
       " 'The True Heroines Club',\n",
       " 'Edward Elric & Roy Mustang FanClub',\n",
       " 'Lust the Goddess',\n",
       " 'vampireproductions studio',\n",
       " 'The Casual Anime Watchers',\n",
       " 'SID(シド)',\n",
       " 'YUI FANATICS ',\n",
       " 'Otaku A Team',\n",
       " 'Resembool Village',\n",
       " \".:_MisTeOr'S_HiDeOuT_pLaCe_:.\",\n",
       " 'Anime Pairings Cards Club ♥',\n",
       " 'Anime Republic',\n",
       " 'The Queens of Shounen',\n",
       " 'Anime Lovers Kingdom',\n",
       " 'Just Alike: Similar characters!!',\n",
       " 'Fullmetal Alchemist Brotherhood > Fullmetal Alchemist (2003-2004)',\n",
       " 'Anime Club Italia ',\n",
       " \"Mari's Club XD\",\n",
       " 'Aaron Dismuke fanclub',\n",
       " 'Adopt a FMA Kitty',\n",
       " \"Active Military, Prior Service and Veteran's Anime Club\",\n",
       " 'The Crimson Alchemist',\n",
       " 'MangAnime Temple',\n",
       " 'Jean Havoc Club',\n",
       " 'The Shrimp and The Mechanic',\n",
       " 'Man of Anime League (MAL)',\n",
       " 'Armstrong Love',\n",
       " 'Action Party!',\n",
       " 'Roy Mustang lovers',\n",
       " '[Taka] Fansubs',\n",
       " 'Tv5',\n",
       " 'Tengoku Club ~ Paradise of Characters',\n",
       " 'Sugoi Desu',\n",
       " 'The Official Book Club',\n",
       " 'Ivorykeys Fan club',\n",
       " 'Simulcast Support Group',\n",
       " 'TV5 AniMEGA',\n",
       " '~ Childhood Friends Love Stories ~',\n",
       " 'BadAss Anime is BadAss',\n",
       " 'J. Michael Tatum Fanclub!!!',\n",
       " 'fullmetal alchemist rp',\n",
       " 'Mustang♥Hawkeye Fanclub',\n",
       " 'MBTI Club',\n",
       " 'Characters With Red Coats Are Awesome',\n",
       " 'Council of Taste Refinery',\n",
       " 'Homunculus FC',\n",
       " 'Members of Sonemic (Rate Your Music) / Cinemos / Glitchwave',\n",
       " 'Riza Hawkeye Fanclub',\n",
       " 'Ohio',\n",
       " 'yellow eyes fanclub',\n",
       " \"Cha's Awsome Friends\",\n",
       " 'Sad/Tragic Anime & VideoGames',\n",
       " 'Sunfukung Appreciation Club',\n",
       " '*~Anime/Manga Club for ALL~*',\n",
       " 'Anime Fan Gathering',\n",
       " 'FAT PPL RP CLUB 2! ~ ♥♥♥',\n",
       " 'Fullmetal Alchemist',\n",
       " 'TOP_RANKS ANIME AND GAME DC (AG&DC)',\n",
       " 'The Sibling Spectrum',\n",
       " 'Hanyou-Chan Fanclub',\n",
       " 'You.Me.Everything.',\n",
       " 'Young Anime Prodigy Club',\n",
       " 'AniRoute',\n",
       " '-Orange & Yellow haired-',\n",
       " 'We are against RoyEd, Elricest (EdAl), Edvy (EnvyEd) and all other ridiculous FMA pairings',\n",
       " \"Blader's Lair\",\n",
       " 'A-FMA ~ FullMetal Alchemist',\n",
       " 'The Anime Degenerates Association (TA-DA)',\n",
       " 'MSA - Mini Skirts Army',\n",
       " 'Otaku DZ {Otaku Arabs} [أوتاكو العرب]',\n",
       " 'Blonde-haired Anime/manga characters',\n",
       " 'The Abridged Series Fanclub',\n",
       " 'King Bradley',\n",
       " 'Adult anime lover',\n",
       " 'R rated animes',\n",
       " 'discrimination haters ',\n",
       " 'Yocchin Rabu',\n",
       " 'Bangalore Anime Club [BAC]',\n",
       " 'Edward Elric Fanclub',\n",
       " 'I Like Popular Animes',\n",
       " 'The Epic Plot Twist Club',\n",
       " 'ManuMission',\n",
       " 'Katsuri Fanclub',\n",
       " 'guys with ponytails!',\n",
       " 'Anime Using Philosophy <3',\n",
       " '[Anime Vibe] TEMPORARILY RE-OPEN',\n",
       " 'New York Anime Festival',\n",
       " 'The Otaku Underground',\n",
       " 'ClubBleach on MAL',\n",
       " 'Anime Original Soundtrack Club v2.0',\n",
       " 'Roy Mustang Fanclub',\n",
       " '\"I want to touch you, brother\"',\n",
       " 'Anime Club \"Georgia\"',\n",
       " 'Badass Chicks',\n",
       " 'Allen Walker and Edward Elric Fan Club',\n",
       " 'Tetsuya Kakihara Fanclub',\n",
       " 'AAA    (Awsome Action Anime)',\n",
       " \"Charlene_Herrera's club for Whatever\",\n",
       " \"FMA Voice Actor's fanclub\",\n",
       " 'Rie Kugimiya Fanclub',\n",
       " 'Anri Katsu Fanclub ☆',\n",
       " 'ANIME ROCKS!!!!!!!!!!!!!!!!!',\n",
       " 'Kimblee Fan Club',\n",
       " \"Full-Metal's Fanclub\",\n",
       " 'Fullmetal Alchemist Club!',\n",
       " '+ Positive Vibes +',\n",
       " 'Amputees',\n",
       " 'Anime on Hulu',\n",
       " 'Dark Legends fan club!',\n",
       " 'Sympathy for Edward Elric Club',\n",
       " \"~Seth-Z-101's Realm of Terror~\",\n",
       " 'funny pics of full metal alchemist ',\n",
       " 'Miho Fukuhara',\n",
       " 'Avant Garde and Philosophical anime',\n",
       " 'Anime VS Manga Club',\n",
       " 'MANime and MANga club',\n",
       " 'Full Metal Alchemist RPG',\n",
       " 'russian shounen fans!',\n",
       " 'Guys With Long Hair/ Ponytails',\n",
       " '*Work in Progress* (Literally)',\n",
       " 'Anime Modivational Posters Fanclub',\n",
       " 'Cards Addiction Club',\n",
       " 'AniMania',\n",
       " 'The Anime Fanatic Hideaway [Revival Start]',\n",
       " 'Alchemy FC',\n",
       " 'DevilBlade1 WorkShop',\n",
       " 'Emotional Anime & Quotes',\n",
       " 'Inoue Kikuko Fanclub',\n",
       " '-Travis Willingham-',\n",
       " \"Roy Mustang's Miniskirt Army!\",\n",
       " 'The Shōnen Club',\n",
       " 'Cartola - Panela dos Retardados',\n",
       " 'Edward X Winry FC',\n",
       " 'Elric Brothers ',\n",
       " 'SunnyCon',\n",
       " 'World Wide Anime Club',\n",
       " 'Everything Anime',\n",
       " 'Turd Burglars ',\n",
       " 'I actually enjoy watching fillers club',\n",
       " 'MAL Backstreet Residential.',\n",
       " 'Justice or InJustice?!',\n",
       " \"I'm not short!\",\n",
       " 'Epic Shounen Anime/Manga',\n",
       " 'CLOSED',\n",
       " 'PETJA',\n",
       " 'The Tiny Eyes Clan!',\n",
       " 'Double Dollar Ice Cream Club 🍦',\n",
       " 'Cardinal Leger Anime Club 2013-14',\n",
       " 'Full Metal Alchemist brother hood fan club',\n",
       " 'Envy awsomeness!!! cuz palm trees are sexier then migets!!!',\n",
       " 'Non-human characters',\n",
       " '(SYM): Seinen - Young Men',\n",
       " 'the Vic Mignogna is totally overrated club',\n",
       " 'Sudanese Otaku',\n",
       " 'Old Spice Air King Club',\n",
       " 'Anime Rakuen',\n",
       " 'Evil Tripple',\n",
       " 'Full Metal Alchemist: Rise of New Alchemy',\n",
       " 'anime random 101',\n",
       " \"Armitage's Dimension Radio\",\n",
       " '~HYPER ANIME~',\n",
       " 'Anime X ',\n",
       " 'Weeaboos from the deep south',\n",
       " 'Goons That Watch Anime',\n",
       " '♥Anime~Lovers♥',\n",
       " 'The Resistance',\n",
       " 'otakus that waste there life away ',\n",
       " 'Manaus, AM - Brasil',\n",
       " '+_aN!mE_L0vErS_+',\n",
       " 'Scrumdiddlyumptious Food in Anime',\n",
       " 'Make Believe Shonen Ai / Yaoi Club! <3',\n",
       " ' full metal alchemist fanclub',\n",
       " 'Secret Paku Romi Fan ClubXD',\n",
       " 'G-Army ',\n",
       " \"The Gentleman's club.\",\n",
       " '✿♥‿♥✿ Open!!! COME JOIN HAVE FUN!!! ✿♥‿♥✿',\n",
       " 'Anime Revolution ♡',\n",
       " 'Alphonse Elric!!!',\n",
       " 'Anime in Blu-ray',\n",
       " 'Edward Elric!!!',\n",
       " 'Full Metal Alchemist',\n",
       " 'Textbook Elitism',\n",
       " 'Marmara Üniversitesi Anime-Manga Kulübü',\n",
       " 'Jefferson Utanes fan CLUB!',\n",
       " 'Anime Counseling',\n",
       " 'Kanshin',\n",
       " 'Metacritic for Climax',\n",
       " 'anime/manga discussion/reccomendation',\n",
       " 'Os Rulões',\n",
       " 'All About The Love Story',\n",
       " 'Recommendation Challenge',\n",
       " 'Dystopic Anime',\n",
       " 'The Opposite Side of the Mirror',\n",
       " 'MAL We Got THIS',\n",
       " 'FMA:only A-O',\n",
       " ' FMA FREAKS UNITE =)',\n",
       " \"Bruno's Gamehouse\",\n",
       " 'Brithers! Edward Elric and Alphnose Elric',\n",
       " 'Brotherhood: The Law of Equivalent Exchange',\n",
       " 'Anime✫R✫Us™',\n",
       " 'Waterloo Men of Culture',\n",
       " 'Royai Forever!',\n",
       " 'The Baka club',\n",
       " 'Black Hayate',\n",
       " 'Salad Bar Club',\n",
       " 'full metal alchemist: the age of the dark alchemist',\n",
       " 'Aschente',\n",
       " \"LaraWalker's Wonderland\",\n",
       " 'Just Another Anime Club',\n",
       " 'MyNetFam.com',\n",
       " \"WAMUU'S WEEABROS\",\n",
       " 'against anime/manga editing/censoring',\n",
       " 'Just Noticed',\n",
       " 'Favorite anime',\n",
       " 'Manga-Anime Guardians (M.A.G)',\n",
       " 'TheKnightsOfTheRoundTable',\n",
       " 'Goto Mai Fanclub',\n",
       " 'Agree that ZechsXNoin(from MSGW) & RoyXRiza(from FMA) are similar??',\n",
       " 'Anime ID Centar',\n",
       " '▬ The • Rec • Room ▬',\n",
       " 'Shao May',\n",
       " 'Toonami Faithfuls Unite!',\n",
       " 'Versus Couples, Girls, and Guys',\n",
       " 'Boys! Boys! Boys!',\n",
       " 'Zangetsukakashi',\n",
       " 'alchemy club',\n",
       " 'Anime Empire',\n",
       " 'Shonenwatch',\n",
       " 'Españoles en myanimelist',\n",
       " 'The CO-OP Club',\n",
       " '.otakus.',\n",
       " 'Anime and Manga Club',\n",
       " 'Germany Fantasy Animes',\n",
       " 'Allen Walker and Edward Elric Fan Club',\n",
       " 'NOT ENOUGH TIME!!',\n",
       " 'Con-goers Unite!',\n",
       " 'the power of greed',\n",
       " 'Shirokitsune',\n",
       " 'Anime Hall of Fame',\n",
       " 'OTAKUS KAWAISS!',\n",
       " 'The Debauchery Tea Party',\n",
       " 'Anime Drama Club',\n",
       " 'Anime FanFiction',\n",
       " 'Cards Collectors Club  [.CCC.]',\n",
       " 'Animefreunde',\n",
       " 'M. SATH Arcadia ',\n",
       " 'Doremy Hija de Puu~',\n",
       " 'The Panda Club',\n",
       " 'Fantasy and Adventure Club',\n",
       " 'URI Anime Club',\n",
       " 'NEKO SOULS SCHOLAR OF THE FIRST NEKO',\n",
       " 'Sexy Kawaii Animu Club!',\n",
       " 'Anime is NOT A Cartoon',\n",
       " 'Anime Discussion Lab',\n",
       " 'The Heros',\n",
       " 'Deus Ex Machina Anime Club',\n",
       " 'Hungarian Bishounen/Bishoujo Lovers~ <3 ',\n",
       " 'Bishounen Forever',\n",
       " 'Indian anime & FUN club',\n",
       " \"Bioscience Pervy Sensei's \",\n",
       " 'Boaring club',\n",
       " 'F.A.C.Q',\n",
       " 'A.O.R.',\n",
       " 'Fullmetal Alchemist',\n",
       " 'G3t R3kt',\n",
       " 'SourceFedNERD Anime Club',\n",
       " 'Evil Anime Kids',\n",
       " 'State of Washington - Anime and Manga Club',\n",
       " 'Legend of the Arab Heroes',\n",
       " 'Shounen Kicks Ass',\n",
       " 'Papo Otaku',\n",
       " 'Anime/Manga Fan Club',\n",
       " 'Team Edward Elric',\n",
       " \"What's up with the telephone poles?\",\n",
       " 'Ani-Midnight',\n",
       " 'Clean Anime',\n",
       " '  Everything is a conspiracy ',\n",
       " 'Anime Infinity',\n",
       " 'Definitive Romantic Endings ',\n",
       " 'Animetr',\n",
       " 'Anime and Manga Otaku in Europa',\n",
       " 'The Coolest Villains Club',\n",
       " 'EnjoyAbles',\n",
       " 'Northwest Ohio game and anime club!',\n",
       " 'Amputee female character',\n",
       " 'petra x edward',\n",
       " 'THE WHANGDOODLE EMPIRE',\n",
       " 'Drivers Tercer Mundo',\n",
       " 'anime lovers',\n",
       " 'NICO Touches the Walls',\n",
       " 'Action Beasts',\n",
       " 'Bae Squad',\n",
       " 'Funniest Anime Pictures',\n",
       " 'HD ANIME and BLURAY',\n",
       " 'Anime Base',\n",
       " 'Miles FC',\n",
       " 'Anime Courtyard',\n",
       " 'Jonas \"Flatlusen\" Kraft ',\n",
       " 'PBHS Anime Club',\n",
       " 'Anime discussion club',\n",
       " 'Los Mamelucos',\n",
       " 'Brotherhood',\n",
       " \"SailorCherry's favorite anime girls club\",\n",
       " 'Manly Manime Men',\n",
       " 'Moonside Anime Club',\n",
       " 'Foundation Anime Club',\n",
       " 'Meet and Greet Club!',\n",
       " '*Ending Lovers*',\n",
       " 'I Dudi',\n",
       " 'Anime Weeaboo fan page',\n",
       " \"The Otaku's Palace\",\n",
       " 'DAB: De Autisten Brigade',\n",
       " 'Interstice',\n",
       " 'NYC ANIME ALLIANCE',\n",
       " 'Hottest anime characters!',\n",
       " 'WORLDS MOST PoPULAR ANiMES',\n",
       " 'Strongest Characters Fan Club',\n",
       " 'I hate Roy Mustang',\n",
       " 'Fullmetal Alchemist FC',\n",
       " 'Realm of the Immortals',\n",
       " 'Boiz Grup',\n",
       " 'D-bags 4 lyfe',\n",
       " 'Old Spice',\n",
       " 'The Epic Edward Elric Club ',\n",
       " 'Comet Club!',\n",
       " \"I Bet His Mother Caught Him at RED's Bar\",\n",
       " 'Phil h8/b8 club',\n",
       " 'California Otaku Society',\n",
       " 'The Feels',\n",
       " 'Crimson Demons',\n",
       " 'Amnesia Fansubs',\n",
       " 'The Lazy Pandas',\n",
       " 'Fromendio',\n",
       " 'Opiate Anime (and Manga)',\n",
       " 'ANIME LUVERSS',\n",
       " 'The Anime Quote Club',\n",
       " 'stonerzz kox ',\n",
       " 'Technology - YEAH!',\n",
       " 'FANIME',\n",
       " 'Old School Otaku',\n",
       " 'anti-shit taste club',\n",
       " 'Overpowered',\n",
       " 'Anime Break',\n",
       " 'Hiromu Arakawa Fanclub',\n",
       " 'Hypocrite valley ',\n",
       " 'SunLink@AnimeManga',\n",
       " 'Anime Walkers',\n",
       " 'The Weeb Gang',\n",
       " 'FanBoy',\n",
       " 'Hide Your Waifu',\n",
       " 'Rainbow Kittens',\n",
       " \"★ Otaku Wannabe's ★\",\n",
       " 'GJ Club',\n",
       " 'FlamingMushroom Seasonal ',\n",
       " 'Secrets Of The Forest (S.O.T.F.)',\n",
       " 'Philosophy of Animes',\n",
       " 'ƒυℓℓмєтαℓ αℓcнмιѕт: вяσтнєянσσ∂ яσℓєρℓαу {Open!}',\n",
       " 'Belgian High Society',\n",
       " 'Code geass Otaku only',\n",
       " 'Anime World',\n",
       " 'The Mixtape Theory',\n",
       " 'Le Norm',\n",
       " \"♓ Azure's Blue (҂◡̀_◡́) . . . \",\n",
       " 'ND Anime',\n",
       " 'Phanclub',\n",
       " 'Shinden',\n",
       " 'Anime Base',\n",
       " 'Co-op Simulcast Society',\n",
       " 'Best Animu and Mango',\n",
       " 'Dr.Knox Fanclub',\n",
       " \"[All about Anime] Let's talk about anime!\",\n",
       " 'New Order',\n",
       " \"Ceruhe's Tea House\",\n",
       " 'The Anything Goes Club!',\n",
       " 'AnimowanyZbigniew',\n",
       " 'Anything You Wish ^_^',\n",
       " 'Timotiste',\n",
       " 'Pure and Sweet Anime\\\\Manga',\n",
       " 'State Alchemist Club',\n",
       " 'Anime Club ʕ•̀ω•́ʔ✧',\n",
       " 'I wish it was real...',\n",
       " 'The Coolest Heroes Club',\n",
       " '♣ Draginites Club ♣ ',\n",
       " 'Animeloverz',\n",
       " 'Morioka University',\n",
       " 'Informal Anime Club',\n",
       " 'Los piggys gordos',\n",
       " 'SCNUAC',\n",
       " 'anime fans',\n",
       " 'Rikugou.org',\n",
       " 'Animemes',\n",
       " 'anime lovers',\n",
       " 'Otaku land ',\n",
       " 'Anime-i Milliye',\n",
       " 'Læri: club anime español',\n",
       " 'The Shonen Anime Community ',\n",
       " 'Salvadores del anime ',\n",
       " 'Foreigners in Japan',\n",
       " 'Casual Anime',\n",
       " 'Moffle Army',\n",
       " 'NeoElitists',\n",
       " 'El Yila',\n",
       " 'The Order Of British Otaku',\n",
       " 'The misfortunate',\n",
       " 'I Like Anime ',\n",
       " 'Edward Elric Love Club',\n",
       " 'Secret Club',\n",
       " \"Poor Man's Jersey Club.\",\n",
       " '~ WATER BOTTLE CLUB ~',\n",
       " '2BHcasts - Simple Podcasts for the Nerds',\n",
       " 'Harsh Anime Reviews',\n",
       " 'All genres anime club',\n",
       " 'Ace of Order',\n",
       " 'House of Douches',\n",
       " 'Big J Radio Station',\n",
       " 'Manga & Anime Steampunk Club',\n",
       " 'New Order',\n",
       " \"Haru-chan's Maid Cafe\",\n",
       " 'Anime',\n",
       " 'Neo Band of the Hawk ',\n",
       " 'Anime/Manga Central ',\n",
       " 'Anime Force United',\n",
       " 'Polski FC Fullmetal Alchemist: Brotherhood',\n",
       " 'Envy x Ed',\n",
       " 'Chennaites Anime & Manga Club',\n",
       " 'Super Special Awesome Club',\n",
       " 'RedirectingFour Fanclub']"
      ]
     },
     "execution_count": 43,
     "metadata": {},
     "output_type": "execute_result"
    }
   ],
   "source": [
    "club_li = []\n",
    "\n",
    "clubs = soup.find_all('div', class_ = 'borderClass')\n",
    "for club in range(len(clubs)):\n",
    "    club_li.append(clubs[club].find('a').text)\n",
    "\n",
    "club_li"
   ]
  },
  {
   "cell_type": "code",
   "execution_count": 44,
   "metadata": {},
   "outputs": [
    {
     "data": {
      "text/plain": [
       "581"
      ]
     },
     "execution_count": 44,
     "metadata": {},
     "output_type": "execute_result"
    }
   ],
   "source": [
    "len(club_li)"
   ]
  },
  {
   "cell_type": "markdown",
   "metadata": {},
   "source": [
    "### Forums Posts"
   ]
  },
  {
   "cell_type": "code",
   "execution_count": 72,
   "metadata": {},
   "outputs": [],
   "source": [
    "import time, os\n",
    "from selenium import webdriver\n",
    "from selenium.webdriver.common.keys import Keys\n",
    "\n",
    "chromedriver = \"/Applications/chromedriver\" # path to the chromedriver executable\n",
    "os.environ[\"webdriver.chrome.driver\"] = chromedriver"
   ]
  },
  {
   "cell_type": "code",
   "execution_count": 532,
   "metadata": {},
   "outputs": [],
   "source": [
    "url = 'https://myanimelist.net/forum/?animeid=5114'\n",
    "response = requests.get(url)"
   ]
  },
  {
   "cell_type": "code",
   "execution_count": 533,
   "metadata": {},
   "outputs": [
    {
     "data": {
      "text/plain": [
       "200"
      ]
     },
     "execution_count": 533,
     "metadata": {},
     "output_type": "execute_result"
    }
   ],
   "source": [
    "response.status_code"
   ]
  },
  {
   "cell_type": "code",
   "execution_count": 534,
   "metadata": {},
   "outputs": [],
   "source": [
    "driver = webdriver.Chrome(chromedriver)\n",
    "driver.get(url)"
   ]
  },
  {
   "cell_type": "code",
   "execution_count": 535,
   "metadata": {},
   "outputs": [],
   "source": [
    "soup = BeautifulSoup(driver.page_source, 'html.parser')"
   ]
  },
  {
   "cell_type": "code",
   "execution_count": 538,
   "metadata": {
    "scrolled": false
   },
   "outputs": [
    {
     "data": {
      "text/plain": [
       "10"
      ]
     },
     "execution_count": 538,
     "metadata": {},
     "output_type": "execute_result"
    }
   ],
   "source": [
    "pages = soup.find('span', class_ = 'di-ib').text\n",
    "total_pages = pages.split(' ')[1]\n",
    "total_pages = int(total_pages.strip('()'))\n",
    "total_pages"
   ]
  },
  {
   "cell_type": "code",
   "execution_count": 914,
   "metadata": {},
   "outputs": [],
   "source": [
    "post_li = []"
   ]
  },
  {
   "cell_type": "code",
   "execution_count": 915,
   "metadata": {
    "scrolled": true
   },
   "outputs": [],
   "source": [
    "forum_posts = soup.find_all('td', class_ = 'forum_boardrow1')\n",
    "# b = forum_posts[4].find_all('a', recursive = False)\n",
    "\n",
    "i = 0\n",
    "for j in range(len(forum_posts)):\n",
    "    b = forum_posts[i].find_all('a', recursive = False)\n",
    "    post_li.append(b[0].text)\n",
    "    i += 2\n",
    "    if i >= len(forum_posts):\n",
    "        break\n",
    "# post_li"
   ]
  },
  {
   "cell_type": "code",
   "execution_count": 916,
   "metadata": {},
   "outputs": [
    {
     "data": {
      "text/plain": [
       "50"
      ]
     },
     "execution_count": 916,
     "metadata": {},
     "output_type": "execute_result"
    }
   ],
   "source": [
    "len(post_li)"
   ]
  },
  {
   "cell_type": "code",
   "execution_count": 917,
   "metadata": {},
   "outputs": [],
   "source": [
    "time.sleep(5)"
   ]
  },
  {
   "cell_type": "code",
   "execution_count": 918,
   "metadata": {
    "scrolled": true
   },
   "outputs": [
    {
     "name": "stdout",
     "output_type": "stream",
     "text": [
      "2063\n"
     ]
    }
   ],
   "source": [
    "if soup.find('a', text = 'Last »'):\n",
    "    next_button = driver.find_element_by_xpath(\n",
    "        '//a[contains(text(), \"Last »\")]'\n",
    "    )\n",
    "    next_button.click()\n",
    "\n",
    "    soup = BeautifulSoup(driver.page_source, 'html.parser')\n",
    "\n",
    "    forum_posts = soup.find_all('td', class_ = 'forum_boardrow1')\n",
    "    # b = forum_posts[4].find_all('a', recursive = False)\n",
    "\n",
    "    i = 0\n",
    "    for j in range(len(forum_posts)):\n",
    "        b = forum_posts[i].find_all('a', recursive = False)\n",
    "        post_li.append(b[0].text)\n",
    "        i += 2\n",
    "        if i >= len(forum_posts):\n",
    "            break\n",
    "            \n",
    "    pages = soup.find('span', class_ = 'di-ib').text\n",
    "    total_pages = pages.split(' ')[1]\n",
    "    total_pages = int(total_pages.strip('()')) - 2\n",
    "    total_posts = total_pages * 50\n",
    "    total_posts += len(post_li)\n",
    "    print(total_posts)"
   ]
  },
  {
   "cell_type": "code",
   "execution_count": 919,
   "metadata": {},
   "outputs": [],
   "source": [
    "if soup.find('a', text = '3') and total_posts == 150:\n",
    "    next_button = driver.find_element_by_xpath(\n",
    "        '//a[contains(@href, \"show=100\")]'\n",
    "    )\n",
    "    next_button.click()\n",
    "\n",
    "    soup = BeautifulSoup(driver.page_source, 'html.parser')\n",
    "\n",
    "    forum_posts = soup.find_all('td', class_ = 'forum_boardrow1')\n",
    "    # b = forum_posts[4].find_all('a', recursive = False)\n",
    "\n",
    "    i = 0\n",
    "    for j in range(len(forum_posts)):\n",
    "        b = forum_posts[i].find_all('a', recursive = False)\n",
    "        post_li.append(b[0].text)\n",
    "        i += 2\n",
    "        if i >= len(forum_posts):\n",
    "            break\n",
    "            \n",
    "    pages = soup.find('span', class_ = 'di-ib').text\n",
    "    total_pages = pages.split(' ')[1]\n",
    "    total_pages = int(total_pages.strip('()')) - 2\n",
    "    total_posts = total_pages * 50\n",
    "    total_posts += len(post_li)\n",
    "    print(total_posts)"
   ]
  },
  {
   "cell_type": "code",
   "execution_count": 920,
   "metadata": {},
   "outputs": [],
   "source": [
    "if soup.find('a', text = '2') and total_posts == 100:\n",
    "    next_button = driver.find_element_by_xpath(\n",
    "        '//a[contains(@href, \"show=50\")]'\n",
    "    )\n",
    "    next_button.click()\n",
    "\n",
    "    soup = BeautifulSoup(driver.page_source, 'html.parser')\n",
    "\n",
    "    forum_posts = soup.find_all('td', class_ = 'forum_boardrow1')\n",
    "    # b = forum_posts[4].find_all('a', recursive = False)\n",
    "\n",
    "    i = 0\n",
    "    for j in range(len(forum_posts)):\n",
    "        b = forum_posts[i].find_all('a', recursive = False)\n",
    "        post_li.append(b[0].text)\n",
    "        i += 2\n",
    "        if i >= len(forum_posts):\n",
    "            break\n",
    "            \n",
    "    pages = soup.find('span', class_ = 'di-ib').text\n",
    "    total_pages = pages.split(' ')[1]\n",
    "    total_pages = int(total_pages.strip('()')) - 1\n",
    "    total_posts = total_pages * 50\n",
    "    total_posts += len(post_li)\n",
    "    print(total_posts)"
   ]
  },
  {
   "cell_type": "markdown",
   "metadata": {},
   "source": [
    "### Forum Replies"
   ]
  },
  {
   "cell_type": "code",
   "execution_count": 73,
   "metadata": {},
   "outputs": [],
   "source": [
    "# url = 'https://myanimelist.net/forum/?animeid=5114'\n",
    "url = 'https://myanimelist.net/forum/?animeid=32281'\n",
    "response = requests.get(url)"
   ]
  },
  {
   "cell_type": "code",
   "execution_count": 74,
   "metadata": {},
   "outputs": [
    {
     "data": {
      "text/plain": [
       "200"
      ]
     },
     "execution_count": 74,
     "metadata": {},
     "output_type": "execute_result"
    }
   ],
   "source": [
    "response.status_code"
   ]
  },
  {
   "cell_type": "code",
   "execution_count": 75,
   "metadata": {},
   "outputs": [],
   "source": [
    "driver = webdriver.Chrome(chromedriver)\n",
    "driver.get(url)"
   ]
  },
  {
   "cell_type": "code",
   "execution_count": 76,
   "metadata": {},
   "outputs": [],
   "source": [
    "soup = BeautifulSoup(driver.page_source, 'html.parser')"
   ]
  },
  {
   "cell_type": "code",
   "execution_count": 77,
   "metadata": {},
   "outputs": [],
   "source": [
    "fr_li = []\n",
    "forum_replies = soup.find_all('td', class_ = 'forum_boardrow2', align = 'center', width = '75')\n",
    "\n",
    "for j in range(len(forum_replies)):\n",
    "    fr_li.append(forum_replies[j].text)"
   ]
  },
  {
   "cell_type": "code",
   "execution_count": 78,
   "metadata": {},
   "outputs": [
    {
     "data": {
      "text/plain": [
       "5"
      ]
     },
     "execution_count": 78,
     "metadata": {},
     "output_type": "execute_result"
    }
   ],
   "source": [
    "pages = soup.find('span', class_ = 'di-ib').text\n",
    "total_pages = pages.split(' ')[1]\n",
    "total_pages = int(total_pages.strip('()'))\n",
    "total_pages"
   ]
  },
  {
   "cell_type": "code",
   "execution_count": 79,
   "metadata": {},
   "outputs": [],
   "source": [
    "if soup.find('a', text = '»'):\n",
    "    for page in range(total_pages - 1):\n",
    "        next_button = driver.find_element_by_xpath(\n",
    "            '//a[contains(text(), \"»\")]'\n",
    "        )\n",
    "        next_button.click()\n",
    "\n",
    "        soup = BeautifulSoup(driver.page_source, 'html.parser')\n",
    "\n",
    "        for j in range(len(forum_replies)):\n",
    "            fr_li.append(forum_replies[j].text)\n",
    "        \n",
    "        time.sleep(2)"
   ]
  },
  {
   "cell_type": "code",
   "execution_count": 80,
   "metadata": {},
   "outputs": [
    {
     "data": {
      "text/plain": [
       "13470"
      ]
     },
     "execution_count": 80,
     "metadata": {},
     "output_type": "execute_result"
    }
   ],
   "source": [
    "sum = 0\n",
    "for i in fr_li:\n",
    "    sum += int(i.replace(',',''))\n",
    "sum"
   ]
  },
  {
   "cell_type": "markdown",
   "metadata": {},
   "source": [
    "### Review Count"
   ]
  },
  {
   "cell_type": "code",
   "execution_count": 475,
   "metadata": {},
   "outputs": [],
   "source": [
    "import re\n",
    "\n",
    "url = 'https://myanimelist.net/anime/5114/Fullmetal_Alchemist__Brotherhood/reviews'\n",
    "\n",
    "# response = requests.get(url)"
   ]
  },
  {
   "cell_type": "code",
   "execution_count": 476,
   "metadata": {},
   "outputs": [],
   "source": [
    "driver = webdriver.Chrome(chromedriver)\n",
    "driver.get(url)"
   ]
  },
  {
   "cell_type": "code",
   "execution_count": 477,
   "metadata": {},
   "outputs": [],
   "source": [
    "soup = BeautifulSoup(driver.page_source, 'html.parser')"
   ]
  },
  {
   "cell_type": "code",
   "execution_count": 478,
   "metadata": {
    "scrolled": true
   },
   "outputs": [],
   "source": [
    "total_review = []\n",
    "\n",
    "reviews = soup.find_all('span', id=re.compile(\"rhelp\"))\n",
    "for review in reviews:\n",
    "    total_review.append(review.text)"
   ]
  },
  {
   "cell_type": "code",
   "execution_count": 479,
   "metadata": {},
   "outputs": [
    {
     "ename": "WebDriverException",
     "evalue": "Message: chrome not reachable\n  (Session info: chrome=83.0.4103.116)\n",
     "output_type": "error",
     "traceback": [
      "\u001b[0;31m---------------------------------------------------------------------------\u001b[0m",
      "\u001b[0;31mWebDriverException\u001b[0m                        Traceback (most recent call last)",
      "\u001b[0;32m<ipython-input-479-37a36949f86c>\u001b[0m in \u001b[0;36m<module>\u001b[0;34m\u001b[0m\n\u001b[1;32m      1\u001b[0m \u001b[0;32mif\u001b[0m \u001b[0msoup\u001b[0m\u001b[0;34m.\u001b[0m\u001b[0mfind\u001b[0m\u001b[0;34m(\u001b[0m\u001b[0;34m'a'\u001b[0m\u001b[0;34m,\u001b[0m \u001b[0mtext\u001b[0m \u001b[0;34m=\u001b[0m \u001b[0;34m'More Reviews'\u001b[0m\u001b[0;34m)\u001b[0m\u001b[0;34m:\u001b[0m\u001b[0;34m\u001b[0m\u001b[0;34m\u001b[0m\u001b[0m\n\u001b[1;32m      2\u001b[0m     \u001b[0;32mfor\u001b[0m \u001b[0mi\u001b[0m \u001b[0;32min\u001b[0m \u001b[0mrange\u001b[0m\u001b[0;34m(\u001b[0m\u001b[0;36m1\u001b[0m\u001b[0;34m,\u001b[0m\u001b[0;36m5\u001b[0m\u001b[0;34m)\u001b[0m\u001b[0;34m:\u001b[0m\u001b[0;34m\u001b[0m\u001b[0;34m\u001b[0m\u001b[0m\n\u001b[0;32m----> 3\u001b[0;31m         next_button = driver.find_element_by_xpath(\n\u001b[0m\u001b[1;32m      4\u001b[0m             \u001b[0;34m'//a[contains(text(), \"More Reviews\")]'\u001b[0m\u001b[0;34m\u001b[0m\u001b[0;34m\u001b[0m\u001b[0m\n\u001b[1;32m      5\u001b[0m         )\n",
      "\u001b[0;32m/opt/anaconda3/envs/metis/lib/python3.8/site-packages/selenium/webdriver/remote/webdriver.py\u001b[0m in \u001b[0;36mfind_element_by_xpath\u001b[0;34m(self, xpath)\u001b[0m\n\u001b[1;32m    392\u001b[0m             \u001b[0melement\u001b[0m \u001b[0;34m=\u001b[0m \u001b[0mdriver\u001b[0m\u001b[0;34m.\u001b[0m\u001b[0mfind_element_by_xpath\u001b[0m\u001b[0;34m(\u001b[0m\u001b[0;34m'//div/td[1]'\u001b[0m\u001b[0;34m)\u001b[0m\u001b[0;34m\u001b[0m\u001b[0;34m\u001b[0m\u001b[0m\n\u001b[1;32m    393\u001b[0m         \"\"\"\n\u001b[0;32m--> 394\u001b[0;31m         \u001b[0;32mreturn\u001b[0m \u001b[0mself\u001b[0m\u001b[0;34m.\u001b[0m\u001b[0mfind_element\u001b[0m\u001b[0;34m(\u001b[0m\u001b[0mby\u001b[0m\u001b[0;34m=\u001b[0m\u001b[0mBy\u001b[0m\u001b[0;34m.\u001b[0m\u001b[0mXPATH\u001b[0m\u001b[0;34m,\u001b[0m \u001b[0mvalue\u001b[0m\u001b[0;34m=\u001b[0m\u001b[0mxpath\u001b[0m\u001b[0;34m)\u001b[0m\u001b[0;34m\u001b[0m\u001b[0;34m\u001b[0m\u001b[0m\n\u001b[0m\u001b[1;32m    395\u001b[0m \u001b[0;34m\u001b[0m\u001b[0m\n\u001b[1;32m    396\u001b[0m     \u001b[0;32mdef\u001b[0m \u001b[0mfind_elements_by_xpath\u001b[0m\u001b[0;34m(\u001b[0m\u001b[0mself\u001b[0m\u001b[0;34m,\u001b[0m \u001b[0mxpath\u001b[0m\u001b[0;34m)\u001b[0m\u001b[0;34m:\u001b[0m\u001b[0;34m\u001b[0m\u001b[0;34m\u001b[0m\u001b[0m\n",
      "\u001b[0;32m/opt/anaconda3/envs/metis/lib/python3.8/site-packages/selenium/webdriver/remote/webdriver.py\u001b[0m in \u001b[0;36mfind_element\u001b[0;34m(self, by, value)\u001b[0m\n\u001b[1;32m    974\u001b[0m                 \u001b[0mby\u001b[0m \u001b[0;34m=\u001b[0m \u001b[0mBy\u001b[0m\u001b[0;34m.\u001b[0m\u001b[0mCSS_SELECTOR\u001b[0m\u001b[0;34m\u001b[0m\u001b[0;34m\u001b[0m\u001b[0m\n\u001b[1;32m    975\u001b[0m                 \u001b[0mvalue\u001b[0m \u001b[0;34m=\u001b[0m \u001b[0;34m'[name=\"%s\"]'\u001b[0m \u001b[0;34m%\u001b[0m \u001b[0mvalue\u001b[0m\u001b[0;34m\u001b[0m\u001b[0;34m\u001b[0m\u001b[0m\n\u001b[0;32m--> 976\u001b[0;31m         return self.execute(Command.FIND_ELEMENT, {\n\u001b[0m\u001b[1;32m    977\u001b[0m             \u001b[0;34m'using'\u001b[0m\u001b[0;34m:\u001b[0m \u001b[0mby\u001b[0m\u001b[0;34m,\u001b[0m\u001b[0;34m\u001b[0m\u001b[0;34m\u001b[0m\u001b[0m\n\u001b[1;32m    978\u001b[0m             'value': value})['value']\n",
      "\u001b[0;32m/opt/anaconda3/envs/metis/lib/python3.8/site-packages/selenium/webdriver/remote/webdriver.py\u001b[0m in \u001b[0;36mexecute\u001b[0;34m(self, driver_command, params)\u001b[0m\n\u001b[1;32m    319\u001b[0m         \u001b[0mresponse\u001b[0m \u001b[0;34m=\u001b[0m \u001b[0mself\u001b[0m\u001b[0;34m.\u001b[0m\u001b[0mcommand_executor\u001b[0m\u001b[0;34m.\u001b[0m\u001b[0mexecute\u001b[0m\u001b[0;34m(\u001b[0m\u001b[0mdriver_command\u001b[0m\u001b[0;34m,\u001b[0m \u001b[0mparams\u001b[0m\u001b[0;34m)\u001b[0m\u001b[0;34m\u001b[0m\u001b[0;34m\u001b[0m\u001b[0m\n\u001b[1;32m    320\u001b[0m         \u001b[0;32mif\u001b[0m \u001b[0mresponse\u001b[0m\u001b[0;34m:\u001b[0m\u001b[0;34m\u001b[0m\u001b[0;34m\u001b[0m\u001b[0m\n\u001b[0;32m--> 321\u001b[0;31m             \u001b[0mself\u001b[0m\u001b[0;34m.\u001b[0m\u001b[0merror_handler\u001b[0m\u001b[0;34m.\u001b[0m\u001b[0mcheck_response\u001b[0m\u001b[0;34m(\u001b[0m\u001b[0mresponse\u001b[0m\u001b[0;34m)\u001b[0m\u001b[0;34m\u001b[0m\u001b[0;34m\u001b[0m\u001b[0m\n\u001b[0m\u001b[1;32m    322\u001b[0m             response['value'] = self._unwrap_value(\n\u001b[1;32m    323\u001b[0m                 response.get('value', None))\n",
      "\u001b[0;32m/opt/anaconda3/envs/metis/lib/python3.8/site-packages/selenium/webdriver/remote/errorhandler.py\u001b[0m in \u001b[0;36mcheck_response\u001b[0;34m(self, response)\u001b[0m\n\u001b[1;32m    240\u001b[0m                 \u001b[0malert_text\u001b[0m \u001b[0;34m=\u001b[0m \u001b[0mvalue\u001b[0m\u001b[0;34m[\u001b[0m\u001b[0;34m'alert'\u001b[0m\u001b[0;34m]\u001b[0m\u001b[0;34m.\u001b[0m\u001b[0mget\u001b[0m\u001b[0;34m(\u001b[0m\u001b[0;34m'text'\u001b[0m\u001b[0;34m)\u001b[0m\u001b[0;34m\u001b[0m\u001b[0;34m\u001b[0m\u001b[0m\n\u001b[1;32m    241\u001b[0m             \u001b[0;32mraise\u001b[0m \u001b[0mexception_class\u001b[0m\u001b[0;34m(\u001b[0m\u001b[0mmessage\u001b[0m\u001b[0;34m,\u001b[0m \u001b[0mscreen\u001b[0m\u001b[0;34m,\u001b[0m \u001b[0mstacktrace\u001b[0m\u001b[0;34m,\u001b[0m \u001b[0malert_text\u001b[0m\u001b[0;34m)\u001b[0m\u001b[0;34m\u001b[0m\u001b[0;34m\u001b[0m\u001b[0m\n\u001b[0;32m--> 242\u001b[0;31m         \u001b[0;32mraise\u001b[0m \u001b[0mexception_class\u001b[0m\u001b[0;34m(\u001b[0m\u001b[0mmessage\u001b[0m\u001b[0;34m,\u001b[0m \u001b[0mscreen\u001b[0m\u001b[0;34m,\u001b[0m \u001b[0mstacktrace\u001b[0m\u001b[0;34m)\u001b[0m\u001b[0;34m\u001b[0m\u001b[0;34m\u001b[0m\u001b[0m\n\u001b[0m\u001b[1;32m    243\u001b[0m \u001b[0;34m\u001b[0m\u001b[0m\n\u001b[1;32m    244\u001b[0m     \u001b[0;32mdef\u001b[0m \u001b[0m_value_or_default\u001b[0m\u001b[0;34m(\u001b[0m\u001b[0mself\u001b[0m\u001b[0;34m,\u001b[0m \u001b[0mobj\u001b[0m\u001b[0;34m,\u001b[0m \u001b[0mkey\u001b[0m\u001b[0;34m,\u001b[0m \u001b[0mdefault\u001b[0m\u001b[0;34m)\u001b[0m\u001b[0;34m:\u001b[0m\u001b[0;34m\u001b[0m\u001b[0;34m\u001b[0m\u001b[0m\n",
      "\u001b[0;31mWebDriverException\u001b[0m: Message: chrome not reachable\n  (Session info: chrome=83.0.4103.116)\n"
     ]
    }
   ],
   "source": [
    "if soup.find('a', text = 'More Reviews'):\n",
    "    for i in range(1,5):\n",
    "        next_button = driver.find_element_by_xpath(\n",
    "            '//a[contains(text(), \"More Reviews\")]'\n",
    "        )\n",
    "        next_button.click()\n",
    "\n",
    "        soup = BeautifulSoup(driver.page_source, 'html.parser')\n",
    "\n",
    "        reviews = soup.find_all('span', id=re.compile(\"rhelp\"))\n",
    "        for review in reviews:\n",
    "            total_review.append(review.text)\n",
    "        \n",
    "        time.sleep(2)\n",
    "\n",
    "driver.close()"
   ]
  },
  {
   "cell_type": "code",
   "execution_count": 471,
   "metadata": {},
   "outputs": [
    {
     "data": {
      "text/plain": [
       "80"
      ]
     },
     "execution_count": 471,
     "metadata": {},
     "output_type": "execute_result"
    }
   ],
   "source": [
    "len(total_review)"
   ]
  },
  {
   "cell_type": "code",
   "execution_count": null,
   "metadata": {},
   "outputs": [],
   "source": []
  }
 ],
 "metadata": {
  "kernelspec": {
   "display_name": "Python [conda env:metis] *",
   "language": "python",
   "name": "conda-env-metis-py"
  },
  "language_info": {
   "codemirror_mode": {
    "name": "ipython",
    "version": 3
   },
   "file_extension": ".py",
   "mimetype": "text/x-python",
   "name": "python",
   "nbconvert_exporter": "python",
   "pygments_lexer": "ipython3",
   "version": "3.8.3"
  }
 },
 "nbformat": 4,
 "nbformat_minor": 4
}
