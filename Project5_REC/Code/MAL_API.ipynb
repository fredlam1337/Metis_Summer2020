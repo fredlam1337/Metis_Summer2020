{
 "cells": [
  {
   "cell_type": "code",
   "execution_count": 1,
   "metadata": {},
   "outputs": [],
   "source": [
    "from jikanpy import Jikan\n",
    "import numpy as np\n",
    "import pandas as pd\n",
    "import requests\n",
    "import time"
   ]
  },
  {
   "cell_type": "code",
   "execution_count": 2,
   "metadata": {},
   "outputs": [],
   "source": [
    "jikan = Jikan(session=requests.Session())"
   ]
  },
  {
   "cell_type": "markdown",
   "metadata": {},
   "source": [
    "### Get Anime IDs"
   ]
  },
  {
   "cell_type": "code",
   "execution_count": 3,
   "metadata": {},
   "outputs": [],
   "source": [
    "def get_ani_id(pages):\n",
    "    \"\"\"Requests animeIDs from top Anime pages and appends them to a single list\"\"\"\n",
    "    ani_list = []\n",
    "    \n",
    "    for j in range(1, pages+1):\n",
    "        try:\n",
    "            search_result = jikan.top(type='anime', page=j)\n",
    "            time.sleep(4)\n",
    "            for i in search_result['top']:\n",
    "                ani_list.append(i['mal_id'])\n",
    "            time.sleep(4)\n",
    "        except:\n",
    "            pass\n",
    "    \n",
    "    return ani_list"
   ]
  },
  {
   "cell_type": "code",
   "execution_count": 4,
   "metadata": {
    "scrolled": true
   },
   "outputs": [],
   "source": [
    "ani_list = get_ani_id(5)\n",
    "# time.sleep(4)"
   ]
  },
  {
   "cell_type": "markdown",
   "metadata": {},
   "source": [
    "### Get Anime Details"
   ]
  },
  {
   "cell_type": "code",
   "execution_count": 5,
   "metadata": {},
   "outputs": [],
   "source": [
    "def get_ani_details(ani_list):\n",
    "    \"\"\"Takes in list of animeIDs and returns the list that contains the title, rating, and genres for each anime\"\"\"\n",
    "    total_list = []\n",
    "    looped_id = set({})\n",
    "    \n",
    "    for id in ani_list:\n",
    "        try:\n",
    "            details = []\n",
    "            genres = []\n",
    "\n",
    "            anime_result = jikan.anime(id)\n",
    "            time.sleep(4)\n",
    "            \n",
    "            details.append(anime_result['title'].strip())\n",
    "            details.append(anime_result['rating'].strip())\n",
    "\n",
    "            for g in anime_result['genres']:\n",
    "                genres.append(g['name'].strip())\n",
    "\n",
    "            details.append(genres)\n",
    "            \n",
    "            looped_id.add(anime_result['mal_id'])\n",
    "            total_list.append(details)\n",
    "        except:\n",
    "            pass\n",
    "        \n",
    "    return total_list, looped_id"
   ]
  },
  {
   "cell_type": "code",
   "execution_count": 6,
   "metadata": {},
   "outputs": [],
   "source": [
    "det_list, rem_list = get_ani_details(ani_list)"
   ]
  },
  {
   "cell_type": "code",
   "execution_count": 7,
   "metadata": {},
   "outputs": [],
   "source": [
    "def get_ani_details2(ani_list, current_list, remainder_set):\n",
    "    \"\"\"Returns items that get_ani_details missed due to HTTP error\"\"\"\n",
    "    remainder_list = list(remainder_set)\n",
    "    \n",
    "    diff_list = np.setdiff1d(ani_list, remainder_list)\n",
    "    new_list, new_set = get_ani_details(list(diff_list))\n",
    "    \n",
    "    current_list += new_list\n",
    "    remainder_list += list(new_set)\n",
    "    \n",
    "    while list(diff_list):\n",
    "        diff_list = np.setdiff1d(ani_list, remainder_list)\n",
    "        new_list, new_set = get_ani_details(list(diff_list))\n",
    "        \n",
    "        current_list += new_list\n",
    "        remainder_list += list(new_set)\n",
    "        \n",
    "        if not list(diff_list):\n",
    "            print('break')\n",
    "        else:\n",
    "            print('pass')\n",
    "        \n",
    "    return current_list, remainder_list"
   ]
  },
  {
   "cell_type": "code",
   "execution_count": 8,
   "metadata": {},
   "outputs": [
    {
     "name": "stdout",
     "output_type": "stream",
     "text": [
      "pass\n",
      "pass\n",
      "pass\n",
      "pass\n",
      "pass\n",
      "break\n"
     ]
    }
   ],
   "source": [
    "det2_list, rem2_list = get_ani_details2(ani_list, det_list, rem_list)"
   ]
  },
  {
   "cell_type": "code",
   "execution_count": 9,
   "metadata": {},
   "outputs": [],
   "source": [
    "det_df = pd.DataFrame(det2_list, columns=['Anime', 'Rating', 'Genres'])"
   ]
  },
  {
   "cell_type": "code",
   "execution_count": 10,
   "metadata": {},
   "outputs": [
    {
     "data": {
      "text/html": [
       "<div>\n",
       "<style scoped>\n",
       "    .dataframe tbody tr th:only-of-type {\n",
       "        vertical-align: middle;\n",
       "    }\n",
       "\n",
       "    .dataframe tbody tr th {\n",
       "        vertical-align: top;\n",
       "    }\n",
       "\n",
       "    .dataframe thead th {\n",
       "        text-align: right;\n",
       "    }\n",
       "</style>\n",
       "<table border=\"1\" class=\"dataframe\">\n",
       "  <thead>\n",
       "    <tr style=\"text-align: right;\">\n",
       "      <th></th>\n",
       "      <th>Anime</th>\n",
       "      <th>Rating</th>\n",
       "      <th>Genres</th>\n",
       "    </tr>\n",
       "  </thead>\n",
       "  <tbody>\n",
       "    <tr>\n",
       "      <th>0</th>\n",
       "      <td>Fullmetal Alchemist: Brotherhood</td>\n",
       "      <td>R - 17+ (violence &amp; profanity)</td>\n",
       "      <td>[Action, Military, Adventure, Comedy, Drama, M...</td>\n",
       "    </tr>\n",
       "    <tr>\n",
       "      <th>1</th>\n",
       "      <td>Steins;Gate</td>\n",
       "      <td>PG-13 - Teens 13 or older</td>\n",
       "      <td>[Thriller, Sci-Fi]</td>\n",
       "    </tr>\n",
       "    <tr>\n",
       "      <th>2</th>\n",
       "      <td>Hunter x Hunter (2011)</td>\n",
       "      <td>PG-13 - Teens 13 or older</td>\n",
       "      <td>[Action, Adventure, Fantasy, Shounen, Super Po...</td>\n",
       "    </tr>\n",
       "    <tr>\n",
       "      <th>3</th>\n",
       "      <td>Gintama°</td>\n",
       "      <td>PG-13 - Teens 13 or older</td>\n",
       "      <td>[Action, Comedy, Historical, Parody, Samurai, ...</td>\n",
       "    </tr>\n",
       "    <tr>\n",
       "      <th>4</th>\n",
       "      <td>Koe no Katachi</td>\n",
       "      <td>PG-13 - Teens 13 or older</td>\n",
       "      <td>[Drama, School, Shounen]</td>\n",
       "    </tr>\n",
       "  </tbody>\n",
       "</table>\n",
       "</div>"
      ],
      "text/plain": [
       "                              Anime                          Rating  \\\n",
       "0  Fullmetal Alchemist: Brotherhood  R - 17+ (violence & profanity)   \n",
       "1                       Steins;Gate       PG-13 - Teens 13 or older   \n",
       "2            Hunter x Hunter (2011)       PG-13 - Teens 13 or older   \n",
       "3                          Gintama°       PG-13 - Teens 13 or older   \n",
       "4                    Koe no Katachi       PG-13 - Teens 13 or older   \n",
       "\n",
       "                                              Genres  \n",
       "0  [Action, Military, Adventure, Comedy, Drama, M...  \n",
       "1                                 [Thriller, Sci-Fi]  \n",
       "2  [Action, Adventure, Fantasy, Shounen, Super Po...  \n",
       "3  [Action, Comedy, Historical, Parody, Samurai, ...  \n",
       "4                           [Drama, School, Shounen]  "
      ]
     },
     "execution_count": 10,
     "metadata": {},
     "output_type": "execute_result"
    }
   ],
   "source": [
    "det_df.head()"
   ]
  },
  {
   "cell_type": "code",
   "execution_count": 11,
   "metadata": {},
   "outputs": [
    {
     "data": {
      "text/plain": [
       "250"
      ]
     },
     "execution_count": 11,
     "metadata": {},
     "output_type": "execute_result"
    }
   ],
   "source": [
    "ani = pd.DataFrame(ani_list, columns=['ID'])\n",
    "len(ani['ID'].unique())"
   ]
  },
  {
   "cell_type": "code",
   "execution_count": 12,
   "metadata": {},
   "outputs": [
    {
     "data": {
      "text/plain": [
       "250"
      ]
     },
     "execution_count": 12,
     "metadata": {},
     "output_type": "execute_result"
    }
   ],
   "source": [
    "# should match len(ani['ID'].unique())\n",
    "len(det_df['Anime'].unique())"
   ]
  },
  {
   "cell_type": "code",
   "execution_count": 13,
   "metadata": {},
   "outputs": [],
   "source": [
    "# det_df.to_csv('details_df.csv', index=False)"
   ]
  },
  {
   "cell_type": "markdown",
   "metadata": {},
   "source": [
    "### Get Anime Reviews"
   ]
  },
  {
   "cell_type": "code",
   "execution_count": 14,
   "metadata": {},
   "outputs": [],
   "source": [
    "def ani_rev(ani_list):\n",
    "    \"\"\"Takes in list of animeIDs and returns the list that contains the reviews for each anime, with the anime title and user who reviewed\"\"\"\n",
    "    total_rev = []\n",
    "    looped_id = set({})\n",
    "    \n",
    "    for i in ani_list:\n",
    "        try:\n",
    "            anime_result = jikan.anime(i)\n",
    "            time.sleep(4)\n",
    "            anime_rev = jikan.anime(i, extension='reviews')\n",
    "            time.sleep(4)\n",
    "            for j in anime_rev['reviews']:\n",
    "                user_rev = []\n",
    "                \n",
    "                user_rev.append(anime_result['title'].strip())\n",
    "                user_rev.append(j['reviewer']['username'])\n",
    "                user_rev.append(j['reviewer']['scores']['overall'])\n",
    "                \n",
    "                total_rev.append(user_rev)\n",
    "                looped_id.add(anime_result['mal_id'])\n",
    "\n",
    "            time.sleep(10)\n",
    "        except:\n",
    "            pass\n",
    "    \n",
    "    return total_rev, looped_id"
   ]
  },
  {
   "cell_type": "code",
   "execution_count": 15,
   "metadata": {
    "scrolled": true
   },
   "outputs": [],
   "source": [
    "list_1, list_2 = ani_rev(ani_list)"
   ]
  },
  {
   "cell_type": "code",
   "execution_count": 16,
   "metadata": {},
   "outputs": [],
   "source": [
    "def ani_rev2(ani_list, current_list, remainder_set):\n",
    "    \"\"\"Returns items that ani_rev missed due to HTTP error\"\"\"\n",
    "    remainder_list = list(remainder_set)\n",
    "    \n",
    "    diff_list = np.setdiff1d(ani_list, remainder_list)\n",
    "    new_list, new_set = ani_rev(list(diff_list))\n",
    "    \n",
    "    current_list += new_list\n",
    "    remainder_list += list(new_set)\n",
    "    \n",
    "    while new_set:\n",
    "        diff_list = np.setdiff1d(ani_list, remainder_list)\n",
    "        new_list, new_set = ani_rev(list(diff_list))\n",
    "        \n",
    "        current_list += new_list\n",
    "        remainder_list += list(new_set)\n",
    "        \n",
    "        if not new_set:\n",
    "            print('break')\n",
    "        else:\n",
    "            print('pass')\n",
    "        \n",
    "    return current_list, remainder_list"
   ]
  },
  {
   "cell_type": "code",
   "execution_count": 17,
   "metadata": {},
   "outputs": [
    {
     "name": "stdout",
     "output_type": "stream",
     "text": [
      "pass\n",
      "pass\n",
      "pass\n",
      "break\n"
     ]
    }
   ],
   "source": [
    "list_3, list_4 = ani_rev2(ani_list, list_1, list_2)"
   ]
  },
  {
   "cell_type": "code",
   "execution_count": 32,
   "metadata": {},
   "outputs": [],
   "source": [
    "rate_df = pd.DataFrame(list_3, columns=['Anime', 'User', 'Score'])"
   ]
  },
  {
   "cell_type": "code",
   "execution_count": 33,
   "metadata": {},
   "outputs": [
    {
     "data": {
      "text/html": [
       "<div>\n",
       "<style scoped>\n",
       "    .dataframe tbody tr th:only-of-type {\n",
       "        vertical-align: middle;\n",
       "    }\n",
       "\n",
       "    .dataframe tbody tr th {\n",
       "        vertical-align: top;\n",
       "    }\n",
       "\n",
       "    .dataframe thead th {\n",
       "        text-align: right;\n",
       "    }\n",
       "</style>\n",
       "<table border=\"1\" class=\"dataframe\">\n",
       "  <thead>\n",
       "    <tr style=\"text-align: right;\">\n",
       "      <th></th>\n",
       "      <th>Anime</th>\n",
       "      <th>User</th>\n",
       "      <th>Score</th>\n",
       "    </tr>\n",
       "  </thead>\n",
       "  <tbody>\n",
       "    <tr>\n",
       "      <th>0</th>\n",
       "      <td>Fullmetal Alchemist: Brotherhood</td>\n",
       "      <td>tazillo</td>\n",
       "      <td>10</td>\n",
       "    </tr>\n",
       "    <tr>\n",
       "      <th>1</th>\n",
       "      <td>Fullmetal Alchemist: Brotherhood</td>\n",
       "      <td>Archaeon</td>\n",
       "      <td>9</td>\n",
       "    </tr>\n",
       "    <tr>\n",
       "      <th>2</th>\n",
       "      <td>Fullmetal Alchemist: Brotherhood</td>\n",
       "      <td>ChristopherKClaw</td>\n",
       "      <td>7</td>\n",
       "    </tr>\n",
       "    <tr>\n",
       "      <th>3</th>\n",
       "      <td>Fullmetal Alchemist: Brotherhood</td>\n",
       "      <td>literaturenerd</td>\n",
       "      <td>7</td>\n",
       "    </tr>\n",
       "    <tr>\n",
       "      <th>4</th>\n",
       "      <td>Fullmetal Alchemist: Brotherhood</td>\n",
       "      <td>M0nkeyD_Luffy</td>\n",
       "      <td>5</td>\n",
       "    </tr>\n",
       "  </tbody>\n",
       "</table>\n",
       "</div>"
      ],
      "text/plain": [
       "                              Anime              User  Score\n",
       "0  Fullmetal Alchemist: Brotherhood           tazillo     10\n",
       "1  Fullmetal Alchemist: Brotherhood          Archaeon      9\n",
       "2  Fullmetal Alchemist: Brotherhood  ChristopherKClaw      7\n",
       "3  Fullmetal Alchemist: Brotherhood    literaturenerd      7\n",
       "4  Fullmetal Alchemist: Brotherhood     M0nkeyD_Luffy      5"
      ]
     },
     "execution_count": 33,
     "metadata": {},
     "output_type": "execute_result"
    }
   ],
   "source": [
    "rate_df.head()"
   ]
  },
  {
   "cell_type": "code",
   "execution_count": 34,
   "metadata": {},
   "outputs": [
    {
     "data": {
      "text/plain": [
       "249"
      ]
     },
     "execution_count": 34,
     "metadata": {},
     "output_type": "execute_result"
    }
   ],
   "source": [
    "# should match len(ani['ID'].unique()), if not move to next section\n",
    "len(rate_df['Anime'].unique())"
   ]
  },
  {
   "cell_type": "code",
   "execution_count": 35,
   "metadata": {},
   "outputs": [
    {
     "data": {
      "text/plain": [
       "250"
      ]
     },
     "execution_count": 35,
     "metadata": {},
     "output_type": "execute_result"
    }
   ],
   "source": [
    "len(ani['ID'].unique())"
   ]
  },
  {
   "cell_type": "code",
   "execution_count": 45,
   "metadata": {},
   "outputs": [],
   "source": [
    "# rate_df.to_csv('rate_df.csv', index=False)"
   ]
  },
  {
   "cell_type": "markdown",
   "metadata": {},
   "source": [
    "### Remove shows with No Reviews"
   ]
  },
  {
   "cell_type": "code",
   "execution_count": 39,
   "metadata": {},
   "outputs": [
    {
     "data": {
      "text/plain": [
       "['Gintama: Yorinuki Gintama-san on Theater 2D']"
      ]
     },
     "execution_count": 39,
     "metadata": {},
     "output_type": "execute_result"
    }
   ],
   "source": [
    "null_list = []\n",
    "\n",
    "for show in list(det_df['Anime'].unique()):\n",
    "    if show not in list(rate_df['Anime'].unique()):\n",
    "        null_list.append(show)\n",
    "        \n",
    "null_list"
   ]
  },
  {
   "cell_type": "code",
   "execution_count": 40,
   "metadata": {},
   "outputs": [],
   "source": [
    "for null_show in null_list:\n",
    "    det2_df = det_df[det_df['Anime'] != null_show]"
   ]
  },
  {
   "cell_type": "code",
   "execution_count": 44,
   "metadata": {},
   "outputs": [
    {
     "data": {
      "text/plain": [
       "249"
      ]
     },
     "execution_count": 44,
     "metadata": {},
     "output_type": "execute_result"
    }
   ],
   "source": [
    "# should match len(rate_df['Anime'].unique())\n",
    "len(det2_df['Anime'].unique())"
   ]
  },
  {
   "cell_type": "code",
   "execution_count": 46,
   "metadata": {},
   "outputs": [],
   "source": [
    "# det2_df.to_csv('det_df.csv', index=False)"
   ]
  },
  {
   "cell_type": "code",
   "execution_count": null,
   "metadata": {},
   "outputs": [],
   "source": []
  }
 ],
 "metadata": {
  "kernelspec": {
   "display_name": "Python [conda env:metis] *",
   "language": "python",
   "name": "conda-env-metis-py"
  },
  "language_info": {
   "codemirror_mode": {
    "name": "ipython",
    "version": 3
   },
   "file_extension": ".py",
   "mimetype": "text/x-python",
   "name": "python",
   "nbconvert_exporter": "python",
   "pygments_lexer": "ipython3",
   "version": "3.8.5"
  }
 },
 "nbformat": 4,
 "nbformat_minor": 4
}
