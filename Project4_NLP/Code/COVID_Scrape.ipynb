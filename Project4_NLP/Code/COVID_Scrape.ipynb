{
 "cells": [
  {
   "cell_type": "code",
   "execution_count": 46,
   "metadata": {},
   "outputs": [
    {
     "name": "stdout",
     "output_type": "stream",
     "text": [
      "# Squarespace Robots Txt\n",
      "\n",
      "User-agent: AdsBot-Google\n",
      "Disallow: /config\n",
      "Disallow: /search\n",
      "Disallow: /account$\n",
      "Disallow: /account/\n",
      "Disallow: /api/\n",
      "Disallow: /static/\n",
      "Disallow:/*?author=*\n",
      "Disallow:/*&author=*\n",
      "Disallow:/*?tag=*\n",
      "Disallow:/*&tag=*\n",
      "Disallow:/*?month=*\n",
      "Disallow:/*&month=*\n",
      "Disallow:/*?view=*\n",
      "Disallow:/*&view=*\n",
      "Disallow:/*?format=json\n",
      "Disallow:/*&format=json\n",
      "Disallow:/*?format=page-context\n",
      "Disallow:/*&format=page-context\n",
      "Disallow:/*?format=main-content\n",
      "Disallow:/*&format=main-content\n",
      "Disallow:/*?format=json-pretty\n",
      "Disallow:/*&format=json-pretty\n",
      "Disallow:/*?format=ical\n",
      "Disallow:/*&format=ical\n",
      "Disallow:/*?reversePaginate=*\n",
      "Disallow:/*&reversePaginate=*\n",
      "\n",
      "\n",
      "User-agent: AdsBot-Google-Mobile\n",
      "Disallow: /config\n",
      "Disallow: /search\n",
      "Disallow: /account$\n",
      "Disallow: /account/\n",
      "Disallow: /api/\n",
      "Disallow: /static/\n",
      "Disallow:/*?author=*\n",
      "Disallow:/*&author=*\n",
      "Disallow:/*?tag=*\n",
      "Disallow:/*&tag=*\n",
      "Disallow:/*?month=*\n",
      "Disallow:/*&month=*\n",
      "Disallow:/*?view=*\n",
      "Disallow:/*&view=*\n",
      "Disallow:/*?format=json\n",
      "Disallow:/*&format=json\n",
      "Disallow:/*?format=page-context\n",
      "Disallow:/*&format=page-context\n",
      "Disallow:/*?format=main-content\n",
      "Disallow:/*&format=main-content\n",
      "Disallow:/*?format=json-pretty\n",
      "Disallow:/*&format=json-pretty\n",
      "Disallow:/*?format=ical\n",
      "Disallow:/*&format=ical\n",
      "Disallow:/*?reversePaginate=*\n",
      "Disallow:/*&reversePaginate=*\n",
      "\n",
      "\n",
      "User-agent: AdsBot-Google-Mobile-Apps\n",
      "Disallow: /config\n",
      "Disallow: /search\n",
      "Disallow: /account$\n",
      "Disallow: /account/\n",
      "Disallow: /api/\n",
      "Disallow: /static/\n",
      "Disallow:/*?author=*\n",
      "Disallow:/*&author=*\n",
      "Disallow:/*?tag=*\n",
      "Disallow:/*&tag=*\n",
      "Disallow:/*?month=*\n",
      "Disallow:/*&month=*\n",
      "Disallow:/*?view=*\n",
      "Disallow:/*&view=*\n",
      "Disallow:/*?format=json\n",
      "Disallow:/*&format=json\n",
      "Disallow:/*?format=page-context\n",
      "Disallow:/*&format=page-context\n",
      "Disallow:/*?format=main-content\n",
      "Disallow:/*&format=main-content\n",
      "Disallow:/*?format=json-pretty\n",
      "Disallow:/*&format=json-pretty\n",
      "Disallow:/*?format=ical\n",
      "Disallow:/*&format=ical\n",
      "Disallow:/*?reversePaginate=*\n",
      "Disallow:/*&reversePaginate=*\n",
      "\n",
      "\n",
      "User-agent: *\n",
      "Disallow: /config\n",
      "Disallow: /search\n",
      "Disallow: /account$\n",
      "Disallow: /account/\n",
      "Disallow: /api/\n",
      "Disallow: /static/\n",
      "Disallow:/*?author=*\n",
      "Disallow:/*&author=*\n",
      "Disallow:/*?tag=*\n",
      "Disallow:/*&tag=*\n",
      "Disallow:/*?month=*\n",
      "Disallow:/*&month=*\n",
      "Disallow:/*?view=*\n",
      "Disallow:/*&view=*\n",
      "Disallow:/*?format=json\n",
      "Disallow:/*&format=json\n",
      "Disallow:/*?format=page-context\n",
      "Disallow:/*&format=page-context\n",
      "Disallow:/*?format=main-content\n",
      "Disallow:/*&format=main-content\n",
      "Disallow:/*?format=json-pretty\n",
      "Disallow:/*&format=json-pretty\n",
      "Disallow:/*?format=ical\n",
      "Disallow:/*&format=ical\n",
      "Disallow:/*?reversePaginate=*\n",
      "Disallow:/*&reversePaginate=*\n",
      "\n",
      "\n",
      "Sitemap: https://risefirst.org/sitemap.xml\n",
      "\n"
     ]
    }
   ],
   "source": [
    "import pandas as pd\n",
    "\n",
    "from bs4 import BeautifulSoup\n",
    "from selenium import webdriver\n",
    "from selenium.webdriver.common.keys import Keys\n",
    "import time, os\n",
    "import requests\n",
    "\n",
    "url = 'https://risefirst.org/robots.txt'\n",
    "response  = requests.get(url)\n",
    "print(response.text)"
   ]
  },
  {
   "cell_type": "code",
   "execution_count": 47,
   "metadata": {},
   "outputs": [],
   "source": [
    "chromedriver = \"/Applications/chromedriver\"\n",
    "os.environ[\"webdriver.chrome.driver\"] = chromedriver"
   ]
  },
  {
   "cell_type": "code",
   "execution_count": 48,
   "metadata": {},
   "outputs": [
    {
     "data": {
      "text/plain": [
       "200"
      ]
     },
     "execution_count": 48,
     "metadata": {},
     "output_type": "execute_result"
    }
   ],
   "source": [
    "url = 'https://risefirst.org/covid-19-blog?offset=1588041540856&reversePaginate=true'\n",
    "response = requests.get(url)\n",
    "response.status_code"
   ]
  },
  {
   "cell_type": "code",
   "execution_count": 49,
   "metadata": {},
   "outputs": [],
   "source": [
    "driver = webdriver.Chrome(chromedriver)\n",
    "driver.get(url)\n",
    "soup = BeautifulSoup(driver.page_source, 'html.parser')"
   ]
  },
  {
   "cell_type": "code",
   "execution_count": 50,
   "metadata": {},
   "outputs": [],
   "source": [
    "#combines lines that aggregate to a single post\n",
    "def total_text(string):\n",
    "    total_text = ''\n",
    "\n",
    "    for i in string:\n",
    "        total_text += i.text\n",
    "\n",
    "    return total_text"
   ]
  },
  {
   "cell_type": "code",
   "execution_count": 51,
   "metadata": {},
   "outputs": [],
   "source": [
    "total_students = []\n",
    "students = soup.find_all('p', class_=\"\", style='white-space:pre-wrap;')\n",
    "\n",
    "student_1 = students[8].text\n",
    "student_2 = students[11].text\n",
    "student_3 = total_text(students[12:14])\n",
    "student_4 = students[15].text\n",
    "student_5 = total_text(students[16:23])\n",
    "student_6 = total_text(students[24:27])\n",
    "student_7 = total_text(students[27:31])\n",
    "student_8 = total_text(students[31:34])\n",
    "student_9 = total_text(students[36:38])\n",
    "student_10 = total_text(students[38:41])\n",
    "student_11 = total_text(students[41:44])\n",
    "student_12 = total_text(students[47:50])\n",
    "student_13 = total_text(students[51:53])\n",
    "student_14 = total_text(students[54:56])\n",
    "student_15 = total_text(students[57:59])\n",
    "student_16 = total_text(students[60:63])\n",
    "student_17 = students[63].text\n",
    "student_18 = students[64].text\n",
    "student_19 = total_text(students[65:70])\n",
    "student_20 = total_text(students[71:73])"
   ]
  },
  {
   "cell_type": "code",
   "execution_count": 52,
   "metadata": {},
   "outputs": [],
   "source": [
    "total_students.extend((student_1, student_2, student_3, student_4, student_5, student_6, student_7, student_8,\n",
    "                       student_9, student_10, student_11, student_12, student_13, student_14, student_15, student_16,\n",
    "                       student_17, student_18, student_19, student_20))"
   ]
  },
  {
   "cell_type": "code",
   "execution_count": 53,
   "metadata": {},
   "outputs": [],
   "source": [
    "see_more = driver.find_element_by_xpath('//span[contains(text(), \"See More\")]')\n",
    "see_more.click()"
   ]
  },
  {
   "cell_type": "code",
   "execution_count": 54,
   "metadata": {},
   "outputs": [],
   "source": [
    "soup = BeautifulSoup(driver.page_source, 'html.parser')\n",
    "students = soup.find_all('p', class_=\"\", style='white-space:pre-wrap;')"
   ]
  },
  {
   "cell_type": "code",
   "execution_count": 55,
   "metadata": {},
   "outputs": [],
   "source": [
    "student_21 = total_text(students[8:11])\n",
    "student_22 = students[11].text\n",
    "student_23 = students[12].text\n",
    "student_24 = total_text(students[13:18])\n",
    "student_25 = total_text(students[18:22])\n",
    "student_26 = total_text(students[24:28])\n",
    "student_27 = total_text(students[29:31])\n",
    "student_28 = total_text(students[31:35])\n",
    "student_29 = total_text(students[35:37])\n",
    "student_30 = total_text(students[37:44])\n",
    "student_31 = total_text(students[46:50])\n",
    "student_32 = total_text(students[50:55])\n",
    "student_33 = total_text(students[55:58])\n",
    "student_34 = students[58].text\n",
    "student_35 = total_text(students[59:65])\n",
    "student_36 = total_text(students[65:69])\n",
    "student_37 = total_text(students[69:73])\n",
    "student_38 = total_text(students[73:78])\n",
    "student_39 = total_text(students[79:91])\n",
    "student_40 = total_text(students[92:95])"
   ]
  },
  {
   "cell_type": "code",
   "execution_count": 56,
   "metadata": {},
   "outputs": [],
   "source": [
    "total_students.extend((student_21, student_22, student_23, student_24, student_25, student_26, student_27, student_28,\n",
    "                       student_29, student_30, student_31, student_32, student_33, student_34, student_35, student_36,\n",
    "                       student_37, student_38, student_39, student_40))"
   ]
  },
  {
   "cell_type": "code",
   "execution_count": 57,
   "metadata": {},
   "outputs": [],
   "source": [
    "see_more = driver.find_element_by_xpath('//span[contains(text(), \"See More\")]')\n",
    "see_more.click()"
   ]
  },
  {
   "cell_type": "code",
   "execution_count": 58,
   "metadata": {},
   "outputs": [],
   "source": [
    "soup = BeautifulSoup(driver.page_source, 'html.parser')\n",
    "students = soup.find_all('p', class_=\"\", style='white-space:pre-wrap;')"
   ]
  },
  {
   "cell_type": "code",
   "execution_count": 59,
   "metadata": {},
   "outputs": [],
   "source": [
    "student_41 = total_text(students[8:11])\n",
    "student_42 = total_text(students[11:17])\n",
    "student_43 = students[18].text\n",
    "student_44 = total_text(students[19:26])\n",
    "student_45 = students[26].text\n",
    "student_46 = total_text(students[28:33])\n",
    "student_47 = total_text(students[33:35])\n",
    "student_48 = total_text(students[35:44])\n",
    "student_49 = total_text(students[45:47])\n",
    "student_50 = total_text(students[48:55])\n",
    "student_51 = total_text(students[55:59])\n",
    "student_52 = students[59].text\n",
    "student_53 = total_text(students[60:62])\n",
    "student_54 = total_text(students[63:68])\n",
    "student_55 = students[68].text\n",
    "student_56 = total_text(students[69:72])\n",
    "student_57 = total_text(students[73:76])\n",
    "student_58 = total_text(students[76:81])\n",
    "student_59 = students[82].text\n",
    "student_60 = total_text(students[83:85])"
   ]
  },
  {
   "cell_type": "code",
   "execution_count": 60,
   "metadata": {},
   "outputs": [],
   "source": [
    "total_students.extend((student_41, student_42, student_43, student_44, student_45, student_46, student_47, student_48,\n",
    "                       student_49, student_50, student_51, student_52, student_53, student_54, student_55, student_56,\n",
    "                       student_57, student_58, student_59, student_60))"
   ]
  },
  {
   "cell_type": "code",
   "execution_count": 61,
   "metadata": {},
   "outputs": [],
   "source": [
    "see_more = driver.find_element_by_xpath('//span[contains(text(), \"See More\")]')\n",
    "see_more.click()"
   ]
  },
  {
   "cell_type": "code",
   "execution_count": 62,
   "metadata": {},
   "outputs": [],
   "source": [
    "soup = BeautifulSoup(driver.page_source, 'html.parser')\n",
    "students = soup.find_all('p', class_=\"\", style='white-space:pre-wrap;')"
   ]
  },
  {
   "cell_type": "code",
   "execution_count": 63,
   "metadata": {},
   "outputs": [],
   "source": [
    "student_61 = total_text(students[8:12])\n",
    "student_62 = total_text(students[12:16])\n",
    "student_63 = total_text(students[16:18])\n",
    "student_64 = students[20].text\n",
    "student_65 = total_text(students[21:25])\n",
    "student_66 = students[25].text\n",
    "student_67 = total_text(students[26:36])\n",
    "student_68 = students[37].text\n",
    "student_69 = total_text(students[38:47])\n",
    "student_70 = total_text(students[48:51])\n",
    "student_71 = students[51].text\n",
    "student_72 = total_text(students[52:62])\n",
    "student_73 = total_text(students[63:65])\n",
    "student_74 = total_text(students[66:69])\n",
    "student_75 = students[69].text\n",
    "student_76 = total_text(students[70:75])\n",
    "student_77 = total_text(students[76:80])\n",
    "student_78 = students[80].text\n",
    "student_79 = total_text(students[81:83])\n",
    "student_80 = students[84].text"
   ]
  },
  {
   "cell_type": "code",
   "execution_count": 64,
   "metadata": {},
   "outputs": [],
   "source": [
    "total_students.extend((student_61, student_62, student_63, student_64, student_65, student_66, student_67, student_68,\n",
    "                       student_69, student_70, student_71, student_72, student_73, student_74, student_75, student_76,\n",
    "                       student_77, student_78, student_79, student_80))"
   ]
  },
  {
   "cell_type": "code",
   "execution_count": 65,
   "metadata": {},
   "outputs": [],
   "source": [
    "see_more = driver.find_element_by_xpath('//span[contains(text(), \"See More\")]')\n",
    "see_more.click()"
   ]
  },
  {
   "cell_type": "code",
   "execution_count": 66,
   "metadata": {},
   "outputs": [],
   "source": [
    "soup = BeautifulSoup(driver.page_source, 'html.parser')\n",
    "students = soup.find_all('p', class_=\"\", style='white-space:pre-wrap;')"
   ]
  },
  {
   "cell_type": "code",
   "execution_count": 67,
   "metadata": {},
   "outputs": [],
   "source": [
    "student_81 = students[8].text\n",
    "student_82 = total_text(students[9:25])\n",
    "student_83 = total_text(students[27:38])\n",
    "student_84 = total_text(students[39:70])\n",
    "student_85 = total_text(students[72:74])\n",
    "student_86 = total_text(students[75:82])\n",
    "student_87 = total_text(students[83:102])\n",
    "student_88 = total_text(students[103:106])\n",
    "student_89 = total_text(students[106:138])\n",
    "student_90 = total_text(students[139:144])"
   ]
  },
  {
   "cell_type": "code",
   "execution_count": 68,
   "metadata": {},
   "outputs": [],
   "source": [
    "total_students.extend((student_81, student_82, student_83, student_84, student_85, student_86, student_87, student_88,\n",
    "                       student_89, student_90))"
   ]
  },
  {
   "cell_type": "code",
   "execution_count": 75,
   "metadata": {},
   "outputs": [],
   "source": [
    "#convert list to dataframe and output to .csv\n",
    "student_df = pd.DataFrame(total_students, columns=['Text'])\n",
    "student_df.to_csv('covid_fgli.csv', index=False)"
   ]
  },
  {
   "cell_type": "code",
   "execution_count": null,
   "metadata": {},
   "outputs": [],
   "source": []
  }
 ],
 "metadata": {
  "kernelspec": {
   "display_name": "Python [conda env:metis] *",
   "language": "python",
   "name": "conda-env-metis-py"
  },
  "language_info": {
   "codemirror_mode": {
    "name": "ipython",
    "version": 3
   },
   "file_extension": ".py",
   "mimetype": "text/x-python",
   "name": "python",
   "nbconvert_exporter": "python",
   "pygments_lexer": "ipython3",
   "version": "3.8.5"
  }
 },
 "nbformat": 4,
 "nbformat_minor": 4
}
